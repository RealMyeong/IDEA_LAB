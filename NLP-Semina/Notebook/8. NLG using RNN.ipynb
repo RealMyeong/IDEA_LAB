{
 "cells": [
  {
   "cell_type": "code",
   "execution_count": 3,
   "id": "cc784240",
   "metadata": {},
   "outputs": [
    {
     "name": "stdout",
     "output_type": "stream",
     "text": [
      "Model: \"sequential_1\"\n",
      "_________________________________________________________________\n",
      " Layer (type)                Output Shape              Param #   \n",
      "=================================================================\n",
      " embedding_1 (Embedding)     (None, None, 100)         500000    \n",
      "                                                                 \n",
      " simple_rnn_1 (SimpleRNN)    (None, 128)               29312     \n",
      "                                                                 \n",
      " dense_1 (Dense)             (None, 1)                 129       \n",
      "                                                                 \n",
      "=================================================================\n",
      "Total params: 529,441\n",
      "Trainable params: 529,441\n",
      "Non-trainable params: 0\n",
      "_________________________________________________________________\n"
     ]
    }
   ],
   "source": [
    "from tensorflow.keras.models import Sequential\n",
    "from tensorflow.keras.layers import SimpleRNN, Embedding, Dense\n",
    "\n",
    "model = Sequential()\n",
    "model.add(Embedding(5000, 100))\n",
    "model.add(SimpleRNN(128))\n",
    "model.add(Dense(1, activation='sigmoid'))\n",
    "model.summary()"
   ]
  },
  {
   "cell_type": "code",
   "execution_count": 4,
   "id": "0deeb8d5",
   "metadata": {},
   "outputs": [],
   "source": [
    "# Embedding = 5,000(input) * 100(embedding) = 500,000\n",
    "# Wx = 100(embedding) * 128(hidden) = 12,800\n",
    "# Wh = 128 * 128 = 16,384\n",
    "# bias(hidden)  = 128\n",
    "# Wy = 128\n",
    "# bias(output) = 1"
   ]
  },
  {
   "cell_type": "markdown",
   "id": "02dfc966",
   "metadata": {},
   "source": [
    "### LSTM cell_state와 hidden_state차이 설명있는 링크\n",
    "\n",
    "[cell state와 hiedden state의 차이](https://medium.com/analytics-vidhya/lstms-explained-a-complete-technically-accurate-conceptual-guide-with-keras-2a650327e8f2)"
   ]
  },
  {
   "cell_type": "markdown",
   "id": "8d08b7ad",
   "metadata": {},
   "source": [
    "## 케라스의 Simple RNN과 LSTM이해하기"
   ]
  },
  {
   "cell_type": "code",
   "execution_count": 6,
   "id": "3b39124d",
   "metadata": {},
   "outputs": [
    {
     "name": "stdout",
     "output_type": "stream",
     "text": [
      "(4, 5)\n"
     ]
    }
   ],
   "source": [
    "import numpy as np\n",
    "import tensorflow as tf\n",
    "from tensorflow.keras.layers import SimpleRNN, LSTM, Bidirectional\n",
    "\n",
    "train_x = [[0.1, 4.2, 1.5, 1.1, 2.8], [1.0, 3.1, 2.5, 0.7, 1.1], [0.3, 2.1, 1.5, 2.1, 0.1], [2.2, 1.4, 0.5, 0.9, 1.1]]\n",
    "print(np.shape(train_x))"
   ]
  },
  {
   "cell_type": "code",
   "execution_count": 11,
   "id": "f0a8eb33",
   "metadata": {},
   "outputs": [
    {
     "name": "stdout",
     "output_type": "stream",
     "text": [
      "(1, 4, 5)\n"
     ]
    }
   ],
   "source": [
    "train_x = [[[0.1, 4.2, 1.5, 1.1, 2.8], [1.0, 3.1, 2.5, 0.7, 1.1], [0.3, 2.1, 1.5, 2.1, 0.1], [2.2, 1.4, 0.5, 0.9, 1.1]]]\n",
    "train_x = np.array(train_x, dtype=np.float32)\n",
    "print(train_x.shape)"
   ]
  },
  {
   "cell_type": "code",
   "execution_count": 12,
   "id": "d0bd5824",
   "metadata": {},
   "outputs": [
    {
     "name": "stdout",
     "output_type": "stream",
     "text": [
      "hidden state : [[-0.95729214  0.2321412  -0.80941206]], shape : (1, 3)\n"
     ]
    }
   ],
   "source": [
    "rnn = SimpleRNN(3)\n",
    "# rnn = SimpleRNN(3, return_sequence=False, return_state=False)와 동일함\n",
    "hidden_state = rnn(train_x)\n",
    "\n",
    "print('hidden state : {}, shape : {}'.format(hidden_state, hidden_state.shape))"
   ]
  },
  {
   "cell_type": "code",
   "execution_count": 13,
   "id": "c683295c",
   "metadata": {},
   "outputs": [
    {
     "name": "stdout",
     "output_type": "stream",
     "text": [
      "hidden state : [[[-0.99868554 -0.99195284  0.9958747 ]\n",
      "  [-0.9999305  -0.2694045   0.8647588 ]\n",
      "  [-0.9967939  -0.9049087   0.8768172 ]\n",
      "  [-0.99918365  0.94886655  0.50997233]]], shape : (1, 4, 3)\n"
     ]
    }
   ],
   "source": [
    "rnn = SimpleRNN(3, return_sequences=True)\n",
    "hidden_state = rnn(train_x)\n",
    "print('hidden state : {}, shape : {}'.format(hidden_state, hidden_state.shape))"
   ]
  },
  {
   "cell_type": "code",
   "execution_count": 14,
   "id": "a60e49b0",
   "metadata": {},
   "outputs": [
    {
     "name": "stdout",
     "output_type": "stream",
     "text": [
      "hidden states : [[[ 0.97910935 -0.49686566  0.99627894]\n",
      "  [ 0.9931132  -0.8275732   0.999276  ]\n",
      "  [ 0.5923131  -0.9827416   0.9811445 ]\n",
      "  [ 0.97378886 -0.9870051   0.972459  ]]], shpae : (1, 4, 3)\n",
      "last hidden state : [[ 0.97378886 -0.9870051   0.972459  ]], shape : (1, 3)\n"
     ]
    }
   ],
   "source": [
    "rnn = SimpleRNN(3, return_sequences=True, return_state=True)\n",
    "hidden_states, last_state = rnn(train_x)\n",
    "print('hidden states : {}, shpae : {}'.format(hidden_states, hidden_states.shape))\n",
    "print('last hidden state : {}, shape : {}'.format(last_state, last_state.shape))"
   ]
  },
  {
   "attachments": {},
   "cell_type": "markdown",
   "id": "2acd4621",
   "metadata": {},
   "source": [
    "## RNN을 이용한 텍스트 생성"
   ]
  },
  {
   "cell_type": "code",
   "execution_count": 1,
   "id": "1462ba8b",
   "metadata": {},
   "outputs": [
    {
     "name": "stdout",
     "output_type": "stream",
     "text": [
      "12\n"
     ]
    }
   ],
   "source": [
    "import numpy as np\n",
    "from tensorflow.keras.preprocessing.text import Tokenizer\n",
    "from tensorflow.keras.preprocessing.sequence import pad_sequences\n",
    "from tensorflow.keras.utils import to_categorical\n",
    "\n",
    "text = '''경마장에 있는 말이 뛰고 있다\n",
    "그의 말이 법이다\n",
    "가는 말이 고와야 오는 말이 곱다\n",
    "'''\n",
    "\n",
    "tokenizer = Tokenizer()\n",
    "tokenizer.fit_on_texts([text])\n",
    "vocab_size = len(tokenizer.word_index) + 1\n",
    "print(vocab_size)"
   ]
  },
  {
   "cell_type": "code",
   "execution_count": 2,
   "id": "678b6fff",
   "metadata": {},
   "outputs": [
    {
     "data": {
      "text/plain": [
       "{'말이': 1,\n",
       " '경마장에': 2,\n",
       " '있는': 3,\n",
       " '뛰고': 4,\n",
       " '있다': 5,\n",
       " '그의': 6,\n",
       " '법이다': 7,\n",
       " '가는': 8,\n",
       " '고와야': 9,\n",
       " '오는': 10,\n",
       " '곱다': 11}"
      ]
     },
     "execution_count": 2,
     "metadata": {},
     "output_type": "execute_result"
    }
   ],
   "source": [
    "tokenizer.word_index"
   ]
  },
  {
   "cell_type": "code",
   "execution_count": 4,
   "id": "caa7f972",
   "metadata": {},
   "outputs": [
    {
     "name": "stdout",
     "output_type": "stream",
     "text": [
      "11\n"
     ]
    }
   ],
   "source": [
    "sequences = list()\n",
    "for line in text.split('\\n'):\n",
    "    encoded = tokenizer.texts_to_sequences([line])[0]\n",
    "    for i in range(1, len(encoded)):\n",
    "        sequence = encoded[:i+1]\n",
    "        sequences.append(sequence)\n",
    "\n",
    "print(len(sequences))"
   ]
  },
  {
   "cell_type": "code",
   "execution_count": 6,
   "id": "879db0ad",
   "metadata": {},
   "outputs": [
    {
     "data": {
      "text/plain": [
       "[[2, 3],\n",
       " [2, 3, 1],\n",
       " [2, 3, 1, 4],\n",
       " [2, 3, 1, 4, 5],\n",
       " [6, 1],\n",
       " [6, 1, 7],\n",
       " [8, 1],\n",
       " [8, 1, 9],\n",
       " [8, 1, 9, 10],\n",
       " [8, 1, 9, 10, 1],\n",
       " [8, 1, 9, 10, 1, 11]]"
      ]
     },
     "execution_count": 6,
     "metadata": {},
     "output_type": "execute_result"
    }
   ],
   "source": [
    "sequences"
   ]
  },
  {
   "cell_type": "code",
   "execution_count": 7,
   "id": "0fea9769",
   "metadata": {},
   "outputs": [
    {
     "name": "stdout",
     "output_type": "stream",
     "text": [
      "6\n"
     ]
    }
   ],
   "source": [
    "max_len = max(len(i) for i in sequences)\n",
    "print(max_len)"
   ]
  },
  {
   "cell_type": "code",
   "execution_count": 9,
   "id": "1678e9ec",
   "metadata": {},
   "outputs": [
    {
     "name": "stdout",
     "output_type": "stream",
     "text": [
      "[[ 0  0  0  0  2  3]\n",
      " [ 0  0  0  2  3  1]\n",
      " [ 0  0  2  3  1  4]\n",
      " [ 0  2  3  1  4  5]\n",
      " [ 0  0  0  0  6  1]\n",
      " [ 0  0  0  6  1  7]\n",
      " [ 0  0  0  0  8  1]\n",
      " [ 0  0  0  8  1  9]\n",
      " [ 0  0  8  1  9 10]\n",
      " [ 0  8  1  9 10  1]\n",
      " [ 8  1  9 10  1 11]]\n"
     ]
    }
   ],
   "source": [
    "sequences = pad_sequences(sequences, maxlen=max_len, padding='pre')\n",
    "print(sequences)"
   ]
  },
  {
   "cell_type": "code",
   "execution_count": 10,
   "id": "0b68f8d6",
   "metadata": {},
   "outputs": [],
   "source": [
    "sequences = np.array(sequences)\n",
    "x = sequences[:, :-1]\n",
    "y = sequences[:, -1]"
   ]
  },
  {
   "cell_type": "code",
   "execution_count": 11,
   "id": "267a4a48",
   "metadata": {},
   "outputs": [
    {
     "data": {
      "text/plain": [
       "array([[ 0,  0,  0,  0,  2],\n",
       "       [ 0,  0,  0,  2,  3],\n",
       "       [ 0,  0,  2,  3,  1],\n",
       "       [ 0,  2,  3,  1,  4],\n",
       "       [ 0,  0,  0,  0,  6],\n",
       "       [ 0,  0,  0,  6,  1],\n",
       "       [ 0,  0,  0,  0,  8],\n",
       "       [ 0,  0,  0,  8,  1],\n",
       "       [ 0,  0,  8,  1,  9],\n",
       "       [ 0,  8,  1,  9, 10],\n",
       "       [ 8,  1,  9, 10,  1]])"
      ]
     },
     "execution_count": 11,
     "metadata": {},
     "output_type": "execute_result"
    }
   ],
   "source": [
    "x"
   ]
  },
  {
   "cell_type": "code",
   "execution_count": 13,
   "id": "9a39dc7e",
   "metadata": {},
   "outputs": [
    {
     "name": "stdout",
     "output_type": "stream",
     "text": [
      "[[0. 0. 0. 1. 0. 0. 0. 0. 0. 0. 0. 0.]\n",
      " [0. 1. 0. 0. 0. 0. 0. 0. 0. 0. 0. 0.]\n",
      " [0. 0. 0. 0. 1. 0. 0. 0. 0. 0. 0. 0.]\n",
      " [0. 0. 0. 0. 0. 1. 0. 0. 0. 0. 0. 0.]\n",
      " [0. 1. 0. 0. 0. 0. 0. 0. 0. 0. 0. 0.]\n",
      " [0. 0. 0. 0. 0. 0. 0. 1. 0. 0. 0. 0.]\n",
      " [0. 1. 0. 0. 0. 0. 0. 0. 0. 0. 0. 0.]\n",
      " [0. 0. 0. 0. 0. 0. 0. 0. 0. 1. 0. 0.]\n",
      " [0. 0. 0. 0. 0. 0. 0. 0. 0. 0. 1. 0.]\n",
      " [0. 1. 0. 0. 0. 0. 0. 0. 0. 0. 0. 0.]\n",
      " [0. 0. 0. 0. 0. 0. 0. 0. 0. 0. 0. 1.]]\n"
     ]
    }
   ],
   "source": [
    "y = to_categorical(y, num_classes=vocab_size)\n",
    "print(y)"
   ]
  },
  {
   "cell_type": "code",
   "execution_count": 15,
   "id": "59dba63c",
   "metadata": {},
   "outputs": [
    {
     "name": "stdout",
     "output_type": "stream",
     "text": [
      "Epoch 1/200\n",
      "1/1 - 2s - loss: 2.4747 - acc: 0.1818 - 2s/epoch - 2s/step\n",
      "Epoch 2/200\n",
      "1/1 - 0s - loss: 2.4616 - acc: 0.1818 - 14ms/epoch - 14ms/step\n",
      "Epoch 3/200\n",
      "1/1 - 0s - loss: 2.4485 - acc: 0.0909 - 16ms/epoch - 16ms/step\n",
      "Epoch 4/200\n",
      "1/1 - 0s - loss: 2.4353 - acc: 0.2727 - 18ms/epoch - 18ms/step\n",
      "Epoch 5/200\n",
      "1/1 - 0s - loss: 2.4219 - acc: 0.2727 - 11ms/epoch - 11ms/step\n",
      "Epoch 6/200\n",
      "1/1 - 0s - loss: 2.4083 - acc: 0.4545 - 15ms/epoch - 15ms/step\n",
      "Epoch 7/200\n",
      "1/1 - 0s - loss: 2.3944 - acc: 0.4545 - 13ms/epoch - 13ms/step\n",
      "Epoch 8/200\n",
      "1/1 - 0s - loss: 2.3801 - acc: 0.4545 - 15ms/epoch - 15ms/step\n",
      "Epoch 9/200\n",
      "1/1 - 0s - loss: 2.3654 - acc: 0.4545 - 14ms/epoch - 14ms/step\n",
      "Epoch 10/200\n",
      "1/1 - 0s - loss: 2.3502 - acc: 0.4545 - 15ms/epoch - 15ms/step\n",
      "Epoch 11/200\n",
      "1/1 - 0s - loss: 2.3344 - acc: 0.4545 - 14ms/epoch - 14ms/step\n",
      "Epoch 12/200\n",
      "1/1 - 0s - loss: 2.3181 - acc: 0.4545 - 15ms/epoch - 15ms/step\n",
      "Epoch 13/200\n",
      "1/1 - 0s - loss: 2.3011 - acc: 0.4545 - 14ms/epoch - 14ms/step\n",
      "Epoch 14/200\n",
      "1/1 - 0s - loss: 2.2835 - acc: 0.3636 - 15ms/epoch - 15ms/step\n",
      "Epoch 15/200\n",
      "1/1 - 0s - loss: 2.2652 - acc: 0.3636 - 16ms/epoch - 16ms/step\n",
      "Epoch 16/200\n",
      "1/1 - 0s - loss: 2.2462 - acc: 0.3636 - 14ms/epoch - 14ms/step\n",
      "Epoch 17/200\n",
      "1/1 - 0s - loss: 2.2266 - acc: 0.3636 - 15ms/epoch - 15ms/step\n",
      "Epoch 18/200\n",
      "1/1 - 0s - loss: 2.2063 - acc: 0.3636 - 12ms/epoch - 12ms/step\n",
      "Epoch 19/200\n",
      "1/1 - 0s - loss: 2.1854 - acc: 0.3636 - 13ms/epoch - 13ms/step\n",
      "Epoch 20/200\n",
      "1/1 - 0s - loss: 2.1640 - acc: 0.3636 - 13ms/epoch - 13ms/step\n",
      "Epoch 21/200\n",
      "1/1 - 0s - loss: 2.1421 - acc: 0.3636 - 13ms/epoch - 13ms/step\n",
      "Epoch 22/200\n",
      "1/1 - 0s - loss: 2.1199 - acc: 0.3636 - 14ms/epoch - 14ms/step\n",
      "Epoch 23/200\n",
      "1/1 - 0s - loss: 2.0975 - acc: 0.3636 - 13ms/epoch - 13ms/step\n",
      "Epoch 24/200\n",
      "1/1 - 0s - loss: 2.0750 - acc: 0.3636 - 9ms/epoch - 9ms/step\n",
      "Epoch 25/200\n",
      "1/1 - 0s - loss: 2.0526 - acc: 0.3636 - 9ms/epoch - 9ms/step\n",
      "Epoch 26/200\n",
      "1/1 - 0s - loss: 2.0304 - acc: 0.3636 - 13ms/epoch - 13ms/step\n",
      "Epoch 27/200\n",
      "1/1 - 0s - loss: 2.0087 - acc: 0.3636 - 14ms/epoch - 14ms/step\n",
      "Epoch 28/200\n",
      "1/1 - 0s - loss: 1.9876 - acc: 0.3636 - 13ms/epoch - 13ms/step\n",
      "Epoch 29/200\n",
      "1/1 - 0s - loss: 1.9671 - acc: 0.3636 - 14ms/epoch - 14ms/step\n",
      "Epoch 30/200\n",
      "1/1 - 0s - loss: 1.9475 - acc: 0.3636 - 13ms/epoch - 13ms/step\n",
      "Epoch 31/200\n",
      "1/1 - 0s - loss: 1.9289 - acc: 0.3636 - 13ms/epoch - 13ms/step\n",
      "Epoch 32/200\n",
      "1/1 - 0s - loss: 1.9111 - acc: 0.3636 - 9ms/epoch - 9ms/step\n",
      "Epoch 33/200\n",
      "1/1 - 0s - loss: 1.8943 - acc: 0.3636 - 11ms/epoch - 11ms/step\n",
      "Epoch 34/200\n",
      "1/1 - 0s - loss: 1.8783 - acc: 0.3636 - 12ms/epoch - 12ms/step\n",
      "Epoch 35/200\n",
      "1/1 - 0s - loss: 1.8631 - acc: 0.3636 - 13ms/epoch - 13ms/step\n",
      "Epoch 36/200\n",
      "1/1 - 0s - loss: 1.8484 - acc: 0.3636 - 13ms/epoch - 13ms/step\n",
      "Epoch 37/200\n",
      "1/1 - 0s - loss: 1.8341 - acc: 0.3636 - 9ms/epoch - 9ms/step\n",
      "Epoch 38/200\n",
      "1/1 - 0s - loss: 1.8199 - acc: 0.3636 - 9ms/epoch - 9ms/step\n",
      "Epoch 39/200\n",
      "1/1 - 0s - loss: 1.8057 - acc: 0.3636 - 12ms/epoch - 12ms/step\n",
      "Epoch 40/200\n",
      "1/1 - 0s - loss: 1.7913 - acc: 0.3636 - 13ms/epoch - 13ms/step\n",
      "Epoch 41/200\n",
      "1/1 - 0s - loss: 1.7766 - acc: 0.3636 - 13ms/epoch - 13ms/step\n",
      "Epoch 42/200\n",
      "1/1 - 0s - loss: 1.7615 - acc: 0.3636 - 9ms/epoch - 9ms/step\n",
      "Epoch 43/200\n",
      "1/1 - 0s - loss: 1.7460 - acc: 0.3636 - 10ms/epoch - 10ms/step\n",
      "Epoch 44/200\n",
      "1/1 - 0s - loss: 1.7301 - acc: 0.3636 - 13ms/epoch - 13ms/step\n",
      "Epoch 45/200\n",
      "1/1 - 0s - loss: 1.7140 - acc: 0.3636 - 12ms/epoch - 12ms/step\n",
      "Epoch 46/200\n",
      "1/1 - 0s - loss: 1.6975 - acc: 0.4545 - 13ms/epoch - 13ms/step\n",
      "Epoch 47/200\n",
      "1/1 - 0s - loss: 1.6808 - acc: 0.4545 - 9ms/epoch - 9ms/step\n",
      "Epoch 48/200\n",
      "1/1 - 0s - loss: 1.6639 - acc: 0.4545 - 9ms/epoch - 9ms/step\n",
      "Epoch 49/200\n",
      "1/1 - 0s - loss: 1.6468 - acc: 0.4545 - 12ms/epoch - 12ms/step\n",
      "Epoch 50/200\n",
      "1/1 - 0s - loss: 1.6295 - acc: 0.4545 - 13ms/epoch - 13ms/step\n",
      "Epoch 51/200\n",
      "1/1 - 0s - loss: 1.6118 - acc: 0.4545 - 13ms/epoch - 13ms/step\n",
      "Epoch 52/200\n",
      "1/1 - 0s - loss: 1.5939 - acc: 0.5455 - 9ms/epoch - 9ms/step\n",
      "Epoch 53/200\n",
      "1/1 - 0s - loss: 1.5755 - acc: 0.5455 - 9ms/epoch - 9ms/step\n",
      "Epoch 54/200\n",
      "1/1 - 0s - loss: 1.5567 - acc: 0.5455 - 12ms/epoch - 12ms/step\n",
      "Epoch 55/200\n",
      "1/1 - 0s - loss: 1.5374 - acc: 0.5455 - 13ms/epoch - 13ms/step\n",
      "Epoch 56/200\n",
      "1/1 - 0s - loss: 1.5176 - acc: 0.5455 - 13ms/epoch - 13ms/step\n",
      "Epoch 57/200\n",
      "1/1 - 0s - loss: 1.4973 - acc: 0.5455 - 9ms/epoch - 9ms/step\n",
      "Epoch 58/200\n",
      "1/1 - 0s - loss: 1.4767 - acc: 0.5455 - 9ms/epoch - 9ms/step\n",
      "Epoch 59/200\n",
      "1/1 - 0s - loss: 1.4556 - acc: 0.5455 - 13ms/epoch - 13ms/step\n",
      "Epoch 60/200\n",
      "1/1 - 0s - loss: 1.4342 - acc: 0.5455 - 13ms/epoch - 13ms/step\n",
      "Epoch 61/200\n",
      "1/1 - 0s - loss: 1.4126 - acc: 0.5455 - 13ms/epoch - 13ms/step\n",
      "Epoch 62/200\n",
      "1/1 - 0s - loss: 1.3909 - acc: 0.5455 - 9ms/epoch - 9ms/step\n",
      "Epoch 63/200\n",
      "1/1 - 0s - loss: 1.3690 - acc: 0.5455 - 9ms/epoch - 9ms/step\n",
      "Epoch 64/200\n",
      "1/1 - 0s - loss: 1.3472 - acc: 0.5455 - 13ms/epoch - 13ms/step\n",
      "Epoch 65/200\n",
      "1/1 - 0s - loss: 1.3254 - acc: 0.5455 - 13ms/epoch - 13ms/step\n",
      "Epoch 66/200\n",
      "1/1 - 0s - loss: 1.3037 - acc: 0.6364 - 9ms/epoch - 9ms/step\n",
      "Epoch 67/200\n",
      "1/1 - 0s - loss: 1.2821 - acc: 0.6364 - 9ms/epoch - 9ms/step\n",
      "Epoch 68/200\n",
      "1/1 - 0s - loss: 1.2608 - acc: 0.6364 - 12ms/epoch - 12ms/step\n",
      "Epoch 69/200\n",
      "1/1 - 0s - loss: 1.2398 - acc: 0.6364 - 13ms/epoch - 13ms/step\n",
      "Epoch 70/200\n",
      "1/1 - 0s - loss: 1.2190 - acc: 0.6364 - 13ms/epoch - 13ms/step\n",
      "Epoch 71/200\n",
      "1/1 - 0s - loss: 1.1987 - acc: 0.7273 - 9ms/epoch - 9ms/step\n",
      "Epoch 72/200\n",
      "1/1 - 0s - loss: 1.1787 - acc: 0.7273 - 9ms/epoch - 9ms/step\n",
      "Epoch 73/200\n",
      "1/1 - 0s - loss: 1.1590 - acc: 0.7273 - 13ms/epoch - 13ms/step\n",
      "Epoch 74/200\n",
      "1/1 - 0s - loss: 1.1399 - acc: 0.7273 - 13ms/epoch - 13ms/step\n",
      "Epoch 75/200\n",
      "1/1 - 0s - loss: 1.1211 - acc: 0.7273 - 9ms/epoch - 9ms/step\n",
      "Epoch 76/200\n",
      "1/1 - 0s - loss: 1.1028 - acc: 0.7273 - 9ms/epoch - 9ms/step\n",
      "Epoch 77/200\n",
      "1/1 - 0s - loss: 1.0848 - acc: 0.7273 - 12ms/epoch - 12ms/step\n",
      "Epoch 78/200\n",
      "1/1 - 0s - loss: 1.0673 - acc: 0.7273 - 13ms/epoch - 13ms/step\n",
      "Epoch 79/200\n",
      "1/1 - 0s - loss: 1.0502 - acc: 0.7273 - 13ms/epoch - 13ms/step\n",
      "Epoch 80/200\n",
      "1/1 - 0s - loss: 1.0335 - acc: 0.7273 - 8ms/epoch - 8ms/step\n",
      "Epoch 81/200\n",
      "1/1 - 0s - loss: 1.0172 - acc: 0.7273 - 9ms/epoch - 9ms/step\n",
      "Epoch 82/200\n",
      "1/1 - 0s - loss: 1.0013 - acc: 0.7273 - 12ms/epoch - 12ms/step\n",
      "Epoch 83/200\n",
      "1/1 - 0s - loss: 0.9857 - acc: 0.7273 - 13ms/epoch - 13ms/step\n",
      "Epoch 84/200\n",
      "1/1 - 0s - loss: 0.9704 - acc: 0.7273 - 9ms/epoch - 9ms/step\n",
      "Epoch 85/200\n",
      "1/1 - 0s - loss: 0.9555 - acc: 0.7273 - 9ms/epoch - 9ms/step\n",
      "Epoch 86/200\n",
      "1/1 - 0s - loss: 0.9410 - acc: 0.7273 - 12ms/epoch - 12ms/step\n",
      "Epoch 87/200\n",
      "1/1 - 0s - loss: 0.9267 - acc: 0.7273 - 13ms/epoch - 13ms/step\n",
      "Epoch 88/200\n",
      "1/1 - 0s - loss: 0.9128 - acc: 0.7273 - 12ms/epoch - 12ms/step\n",
      "Epoch 89/200\n",
      "1/1 - 0s - loss: 0.8992 - acc: 0.7273 - 9ms/epoch - 9ms/step\n",
      "Epoch 90/200\n",
      "1/1 - 0s - loss: 0.8858 - acc: 0.7273 - 9ms/epoch - 9ms/step\n",
      "Epoch 91/200\n",
      "1/1 - 0s - loss: 0.8727 - acc: 0.7273 - 13ms/epoch - 13ms/step\n",
      "Epoch 92/200\n",
      "1/1 - 0s - loss: 0.8599 - acc: 0.7273 - 13ms/epoch - 13ms/step\n",
      "Epoch 93/200\n",
      "1/1 - 0s - loss: 0.8473 - acc: 0.7273 - 12ms/epoch - 12ms/step\n",
      "Epoch 94/200\n",
      "1/1 - 0s - loss: 0.8350 - acc: 0.7273 - 9ms/epoch - 9ms/step\n",
      "Epoch 95/200\n",
      "1/1 - 0s - loss: 0.8228 - acc: 0.7273 - 9ms/epoch - 9ms/step\n",
      "Epoch 96/200\n",
      "1/1 - 0s - loss: 0.8109 - acc: 0.7273 - 12ms/epoch - 12ms/step\n",
      "Epoch 97/200\n",
      "1/1 - 0s - loss: 0.7992 - acc: 0.7273 - 13ms/epoch - 13ms/step\n",
      "Epoch 98/200\n",
      "1/1 - 0s - loss: 0.7878 - acc: 0.7273 - 13ms/epoch - 13ms/step\n",
      "Epoch 99/200\n",
      "1/1 - 0s - loss: 0.7765 - acc: 0.7273 - 13ms/epoch - 13ms/step\n",
      "Epoch 100/200\n",
      "1/1 - 0s - loss: 0.7653 - acc: 0.7273 - 9ms/epoch - 9ms/step\n",
      "Epoch 101/200\n",
      "1/1 - 0s - loss: 0.7544 - acc: 0.7273 - 9ms/epoch - 9ms/step\n",
      "Epoch 102/200\n",
      "1/1 - 0s - loss: 0.7436 - acc: 0.7273 - 12ms/epoch - 12ms/step\n",
      "Epoch 103/200\n",
      "1/1 - 0s - loss: 0.7330 - acc: 0.7273 - 13ms/epoch - 13ms/step\n",
      "Epoch 104/200\n",
      "1/1 - 0s - loss: 0.7226 - acc: 0.7273 - 13ms/epoch - 13ms/step\n",
      "Epoch 105/200\n",
      "1/1 - 0s - loss: 0.7123 - acc: 0.7273 - 9ms/epoch - 9ms/step\n",
      "Epoch 106/200\n",
      "1/1 - 0s - loss: 0.7021 - acc: 0.7273 - 9ms/epoch - 9ms/step\n",
      "Epoch 107/200\n",
      "1/1 - 0s - loss: 0.6921 - acc: 0.7273 - 12ms/epoch - 12ms/step\n",
      "Epoch 108/200\n",
      "1/1 - 0s - loss: 0.6822 - acc: 0.7273 - 13ms/epoch - 13ms/step\n",
      "Epoch 109/200\n",
      "1/1 - 0s - loss: 0.6725 - acc: 0.7273 - 12ms/epoch - 12ms/step\n",
      "Epoch 110/200\n",
      "1/1 - 0s - loss: 0.6629 - acc: 0.7273 - 9ms/epoch - 9ms/step\n",
      "Epoch 111/200\n",
      "1/1 - 0s - loss: 0.6534 - acc: 0.7273 - 9ms/epoch - 9ms/step\n",
      "Epoch 112/200\n",
      "1/1 - 0s - loss: 0.6440 - acc: 0.7273 - 12ms/epoch - 12ms/step\n",
      "Epoch 113/200\n",
      "1/1 - 0s - loss: 0.6347 - acc: 0.7273 - 12ms/epoch - 12ms/step\n",
      "Epoch 114/200\n",
      "1/1 - 0s - loss: 0.6256 - acc: 0.8182 - 12ms/epoch - 12ms/step\n",
      "Epoch 115/200\n",
      "1/1 - 0s - loss: 0.6166 - acc: 0.8182 - 9ms/epoch - 9ms/step\n",
      "Epoch 116/200\n",
      "1/1 - 0s - loss: 0.6076 - acc: 0.8182 - 11ms/epoch - 11ms/step\n",
      "Epoch 117/200\n",
      "1/1 - 0s - loss: 0.5988 - acc: 0.8182 - 13ms/epoch - 13ms/step\n",
      "Epoch 118/200\n",
      "1/1 - 0s - loss: 0.5901 - acc: 0.8182 - 13ms/epoch - 13ms/step\n",
      "Epoch 119/200\n",
      "1/1 - 0s - loss: 0.5814 - acc: 0.8182 - 10ms/epoch - 10ms/step\n",
      "Epoch 120/200\n",
      "1/1 - 0s - loss: 0.5729 - acc: 0.8182 - 9ms/epoch - 9ms/step\n",
      "Epoch 121/200\n",
      "1/1 - 0s - loss: 0.5645 - acc: 0.8182 - 12ms/epoch - 12ms/step\n",
      "Epoch 122/200\n",
      "1/1 - 0s - loss: 0.5561 - acc: 0.8182 - 13ms/epoch - 13ms/step\n",
      "Epoch 123/200\n",
      "1/1 - 0s - loss: 0.5479 - acc: 0.8182 - 13ms/epoch - 13ms/step\n",
      "Epoch 124/200\n",
      "1/1 - 0s - loss: 0.5397 - acc: 0.8182 - 9ms/epoch - 9ms/step\n",
      "Epoch 125/200\n",
      "1/1 - 0s - loss: 0.5316 - acc: 0.8182 - 10ms/epoch - 10ms/step\n",
      "Epoch 126/200\n",
      "1/1 - 0s - loss: 0.5236 - acc: 0.8182 - 12ms/epoch - 12ms/step\n",
      "Epoch 127/200\n",
      "1/1 - 0s - loss: 0.5157 - acc: 0.8182 - 13ms/epoch - 13ms/step\n",
      "Epoch 128/200\n",
      "1/1 - 0s - loss: 0.5079 - acc: 0.8182 - 13ms/epoch - 13ms/step\n",
      "Epoch 129/200\n",
      "1/1 - 0s - loss: 0.5001 - acc: 0.9091 - 9ms/epoch - 9ms/step\n",
      "Epoch 130/200\n",
      "1/1 - 0s - loss: 0.4924 - acc: 0.9091 - 9ms/epoch - 9ms/step\n",
      "Epoch 131/200\n",
      "1/1 - 0s - loss: 0.4849 - acc: 0.9091 - 12ms/epoch - 12ms/step\n",
      "Epoch 132/200\n",
      "1/1 - 0s - loss: 0.4774 - acc: 0.9091 - 13ms/epoch - 13ms/step\n",
      "Epoch 133/200\n",
      "1/1 - 0s - loss: 0.4699 - acc: 0.9091 - 14ms/epoch - 14ms/step\n",
      "Epoch 134/200\n",
      "1/1 - 0s - loss: 0.4626 - acc: 0.9091 - 10ms/epoch - 10ms/step\n",
      "Epoch 135/200\n",
      "1/1 - 0s - loss: 0.4553 - acc: 0.9091 - 9ms/epoch - 9ms/step\n",
      "Epoch 136/200\n",
      "1/1 - 0s - loss: 0.4482 - acc: 0.9091 - 12ms/epoch - 12ms/step\n",
      "Epoch 137/200\n",
      "1/1 - 0s - loss: 0.4411 - acc: 0.9091 - 13ms/epoch - 13ms/step\n",
      "Epoch 138/200\n",
      "1/1 - 0s - loss: 0.4340 - acc: 0.9091 - 13ms/epoch - 13ms/step\n",
      "Epoch 139/200\n",
      "1/1 - 0s - loss: 0.4271 - acc: 0.9091 - 14ms/epoch - 14ms/step\n",
      "Epoch 140/200\n",
      "1/1 - 0s - loss: 0.4202 - acc: 0.9091 - 9ms/epoch - 9ms/step\n",
      "Epoch 141/200\n",
      "1/1 - 0s - loss: 0.4135 - acc: 0.9091 - 9ms/epoch - 9ms/step\n",
      "Epoch 142/200\n",
      "1/1 - 0s - loss: 0.4068 - acc: 0.9091 - 12ms/epoch - 12ms/step\n",
      "Epoch 143/200\n",
      "1/1 - 0s - loss: 0.4002 - acc: 0.9091 - 13ms/epoch - 13ms/step\n",
      "Epoch 144/200\n",
      "1/1 - 0s - loss: 0.3937 - acc: 0.9091 - 13ms/epoch - 13ms/step\n",
      "Epoch 145/200\n",
      "1/1 - 0s - loss: 0.3872 - acc: 0.9091 - 9ms/epoch - 9ms/step\n",
      "Epoch 146/200\n",
      "1/1 - 0s - loss: 0.3808 - acc: 0.9091 - 10ms/epoch - 10ms/step\n",
      "Epoch 147/200\n",
      "1/1 - 0s - loss: 0.3746 - acc: 0.9091 - 12ms/epoch - 12ms/step\n",
      "Epoch 148/200\n",
      "1/1 - 0s - loss: 0.3684 - acc: 0.9091 - 13ms/epoch - 13ms/step\n",
      "Epoch 149/200\n",
      "1/1 - 0s - loss: 0.3623 - acc: 0.9091 - 13ms/epoch - 13ms/step\n",
      "Epoch 150/200\n",
      "1/1 - 0s - loss: 0.3563 - acc: 0.9091 - 8ms/epoch - 8ms/step\n",
      "Epoch 151/200\n",
      "1/1 - 0s - loss: 0.3503 - acc: 0.9091 - 10ms/epoch - 10ms/step\n",
      "Epoch 152/200\n",
      "1/1 - 0s - loss: 0.3445 - acc: 0.9091 - 13ms/epoch - 13ms/step\n",
      "Epoch 153/200\n",
      "1/1 - 0s - loss: 0.3387 - acc: 0.9091 - 13ms/epoch - 13ms/step\n",
      "Epoch 154/200\n",
      "1/1 - 0s - loss: 0.3330 - acc: 0.9091 - 13ms/epoch - 13ms/step\n",
      "Epoch 155/200\n",
      "1/1 - 0s - loss: 0.3274 - acc: 0.9091 - 10ms/epoch - 10ms/step\n",
      "Epoch 156/200\n",
      "1/1 - 0s - loss: 0.3219 - acc: 0.9091 - 9ms/epoch - 9ms/step\n",
      "Epoch 157/200\n",
      "1/1 - 0s - loss: 0.3164 - acc: 0.9091 - 13ms/epoch - 13ms/step\n",
      "Epoch 158/200\n",
      "1/1 - 0s - loss: 0.3111 - acc: 0.9091 - 13ms/epoch - 13ms/step\n",
      "Epoch 159/200\n",
      "1/1 - 0s - loss: 0.3058 - acc: 0.9091 - 13ms/epoch - 13ms/step\n",
      "Epoch 160/200\n",
      "1/1 - 0s - loss: 0.3006 - acc: 0.9091 - 10ms/epoch - 10ms/step\n",
      "Epoch 161/200\n",
      "1/1 - 0s - loss: 0.2955 - acc: 0.9091 - 10ms/epoch - 10ms/step\n",
      "Epoch 162/200\n",
      "1/1 - 0s - loss: 0.2905 - acc: 0.9091 - 12ms/epoch - 12ms/step\n",
      "Epoch 163/200\n",
      "1/1 - 0s - loss: 0.2855 - acc: 0.9091 - 13ms/epoch - 13ms/step\n",
      "Epoch 164/200\n",
      "1/1 - 0s - loss: 0.2807 - acc: 0.9091 - 13ms/epoch - 13ms/step\n",
      "Epoch 165/200\n",
      "1/1 - 0s - loss: 0.2759 - acc: 0.9091 - 14ms/epoch - 14ms/step\n",
      "Epoch 166/200\n",
      "1/1 - 0s - loss: 0.2711 - acc: 0.9091 - 9ms/epoch - 9ms/step\n",
      "Epoch 167/200\n",
      "1/1 - 0s - loss: 0.2665 - acc: 0.9091 - 10ms/epoch - 10ms/step\n",
      "Epoch 168/200\n",
      "1/1 - 0s - loss: 0.2619 - acc: 0.9091 - 12ms/epoch - 12ms/step\n",
      "Epoch 169/200\n",
      "1/1 - 0s - loss: 0.2574 - acc: 0.9091 - 14ms/epoch - 14ms/step\n",
      "Epoch 170/200\n",
      "1/1 - 0s - loss: 0.2530 - acc: 0.9091 - 13ms/epoch - 13ms/step\n",
      "Epoch 171/200\n",
      "1/1 - 0s - loss: 0.2486 - acc: 0.9091 - 14ms/epoch - 14ms/step\n",
      "Epoch 172/200\n",
      "1/1 - 0s - loss: 0.2444 - acc: 0.9091 - 14ms/epoch - 14ms/step\n",
      "Epoch 173/200\n",
      "1/1 - 0s - loss: 0.2401 - acc: 1.0000 - 13ms/epoch - 13ms/step\n",
      "Epoch 174/200\n",
      "1/1 - 0s - loss: 0.2360 - acc: 1.0000 - 10ms/epoch - 10ms/step\n",
      "Epoch 175/200\n",
      "1/1 - 0s - loss: 0.2319 - acc: 1.0000 - 9ms/epoch - 9ms/step\n",
      "Epoch 176/200\n",
      "1/1 - 0s - loss: 0.2279 - acc: 1.0000 - 12ms/epoch - 12ms/step\n",
      "Epoch 177/200\n",
      "1/1 - 0s - loss: 0.2240 - acc: 1.0000 - 13ms/epoch - 13ms/step\n",
      "Epoch 178/200\n",
      "1/1 - 0s - loss: 0.2201 - acc: 1.0000 - 13ms/epoch - 13ms/step\n",
      "Epoch 179/200\n",
      "1/1 - 0s - loss: 0.2162 - acc: 1.0000 - 13ms/epoch - 13ms/step\n",
      "Epoch 180/200\n",
      "1/1 - 0s - loss: 0.2125 - acc: 1.0000 - 9ms/epoch - 9ms/step\n",
      "Epoch 181/200\n",
      "1/1 - 0s - loss: 0.2088 - acc: 1.0000 - 9ms/epoch - 9ms/step\n",
      "Epoch 182/200\n",
      "1/1 - 0s - loss: 0.2051 - acc: 1.0000 - 14ms/epoch - 14ms/step\n",
      "Epoch 183/200\n",
      "1/1 - 0s - loss: 0.2015 - acc: 1.0000 - 13ms/epoch - 13ms/step\n",
      "Epoch 184/200\n",
      "1/1 - 0s - loss: 0.1980 - acc: 1.0000 - 13ms/epoch - 13ms/step\n",
      "Epoch 185/200\n",
      "1/1 - 0s - loss: 0.1946 - acc: 1.0000 - 9ms/epoch - 9ms/step\n",
      "Epoch 186/200\n",
      "1/1 - 0s - loss: 0.1911 - acc: 1.0000 - 9ms/epoch - 9ms/step\n",
      "Epoch 187/200\n",
      "1/1 - 0s - loss: 0.1878 - acc: 1.0000 - 12ms/epoch - 12ms/step\n",
      "Epoch 188/200\n",
      "1/1 - 0s - loss: 0.1845 - acc: 1.0000 - 13ms/epoch - 13ms/step\n",
      "Epoch 189/200\n",
      "1/1 - 0s - loss: 0.1812 - acc: 1.0000 - 12ms/epoch - 12ms/step\n",
      "Epoch 190/200\n",
      "1/1 - 0s - loss: 0.1780 - acc: 1.0000 - 9ms/epoch - 9ms/step\n",
      "Epoch 191/200\n",
      "1/1 - 0s - loss: 0.1749 - acc: 1.0000 - 10ms/epoch - 10ms/step\n",
      "Epoch 192/200\n",
      "1/1 - 0s - loss: 0.1718 - acc: 1.0000 - 13ms/epoch - 13ms/step\n",
      "Epoch 193/200\n",
      "1/1 - 0s - loss: 0.1687 - acc: 1.0000 - 13ms/epoch - 13ms/step\n",
      "Epoch 194/200\n",
      "1/1 - 0s - loss: 0.1657 - acc: 1.0000 - 13ms/epoch - 13ms/step\n",
      "Epoch 195/200\n",
      "1/1 - 0s - loss: 0.1628 - acc: 1.0000 - 9ms/epoch - 9ms/step\n",
      "Epoch 196/200\n",
      "1/1 - 0s - loss: 0.1599 - acc: 1.0000 - 9ms/epoch - 9ms/step\n",
      "Epoch 197/200\n",
      "1/1 - 0s - loss: 0.1570 - acc: 1.0000 - 13ms/epoch - 13ms/step\n",
      "Epoch 198/200\n",
      "1/1 - 0s - loss: 0.1542 - acc: 1.0000 - 13ms/epoch - 13ms/step\n",
      "Epoch 199/200\n",
      "1/1 - 0s - loss: 0.1515 - acc: 1.0000 - 14ms/epoch - 14ms/step\n",
      "Epoch 200/200\n",
      "1/1 - 0s - loss: 0.1488 - acc: 1.0000 - 14ms/epoch - 14ms/step\n"
     ]
    },
    {
     "data": {
      "text/plain": [
       "<keras.callbacks.History at 0x1a5493fd8b0>"
      ]
     },
     "execution_count": 15,
     "metadata": {},
     "output_type": "execute_result"
    }
   ],
   "source": [
    "from tensorflow.keras.models import Sequential\n",
    "from tensorflow.keras.layers import Embedding, Dense, SimpleRNN\n",
    "\n",
    "model = Sequential()\n",
    "model.add(Embedding(vocab_size, 10))\n",
    "model.add(SimpleRNN(32))\n",
    "model.add(Dense(vocab_size, activation='softmax'))\n",
    "\n",
    "model.compile(optimizer='adam', loss='categorical_crossentropy', metrics=['acc'])\n",
    "model.fit(x, y, epochs=200, verbose=2)"
   ]
  },
  {
   "cell_type": "code",
   "execution_count": 16,
   "id": "1fb71139",
   "metadata": {},
   "outputs": [],
   "source": [
    "def sentence_generation(model, tokenizer, current_word, n):\n",
    "    init_word = current_word\n",
    "    sentence= ''\n",
    "\n",
    "    for _ in range(n):\n",
    "        encoded = tokenizer.texts_to_sequences([current_word])[0]\n",
    "        encoded = pad_sequences([encoded], maxlen=5, padding='pre')\n",
    "\n",
    "        result = model.predict(encoded, verbose=0)\n",
    "        result = np.argmax(result, axis=1)\n",
    "\n",
    "        for word, index in tokenizer.word_index.items():\n",
    "            if index == result:\n",
    "                break\n",
    "        \n",
    "        current_word = current_word + ' ' + word\n",
    "        sentence = sentence + ' ' + word\n",
    "\n",
    "    sentence = init_word + sentence\n",
    "    return sentence"
   ]
  },
  {
   "cell_type": "code",
   "execution_count": 17,
   "id": "2dc0625a",
   "metadata": {},
   "outputs": [
    {
     "name": "stdout",
     "output_type": "stream",
     "text": [
      "경마장에 있는 말이 뛰고 있다\n"
     ]
    }
   ],
   "source": [
    "print(sentence_generation(model, tokenizer, '경마장에', 4))"
   ]
  },
  {
   "cell_type": "code",
   "execution_count": 18,
   "id": "b95af1b7",
   "metadata": {},
   "outputs": [
    {
     "name": "stdout",
     "output_type": "stream",
     "text": [
      "그의 말이 법이다\n"
     ]
    }
   ],
   "source": [
    "print(sentence_generation(model, tokenizer, '그의', 2))"
   ]
  },
  {
   "cell_type": "code",
   "execution_count": 20,
   "id": "6edad59d",
   "metadata": {},
   "outputs": [
    {
     "name": "stdout",
     "output_type": "stream",
     "text": [
      "가는 말이 고와야 오는 말이 곱다\n"
     ]
    }
   ],
   "source": [
    "print(sentence_generation(model, tokenizer, '가는', 5))"
   ]
  },
  {
   "attachments": {},
   "cell_type": "markdown",
   "id": "31063daa",
   "metadata": {},
   "source": [
    "## LSTM을 이용하여 텍스트 생성하기"
   ]
  },
  {
   "cell_type": "code",
   "execution_count": 21,
   "id": "459bf22c",
   "metadata": {},
   "outputs": [
    {
     "data": {
      "text/html": [
       "<div>\n",
       "<style scoped>\n",
       "    .dataframe tbody tr th:only-of-type {\n",
       "        vertical-align: middle;\n",
       "    }\n",
       "\n",
       "    .dataframe tbody tr th {\n",
       "        vertical-align: top;\n",
       "    }\n",
       "\n",
       "    .dataframe thead th {\n",
       "        text-align: right;\n",
       "    }\n",
       "</style>\n",
       "<table border=\"1\" class=\"dataframe\">\n",
       "  <thead>\n",
       "    <tr style=\"text-align: right;\">\n",
       "      <th></th>\n",
       "      <th>articleID</th>\n",
       "      <th>articleWordCount</th>\n",
       "      <th>byline</th>\n",
       "      <th>documentType</th>\n",
       "      <th>headline</th>\n",
       "      <th>keywords</th>\n",
       "      <th>multimedia</th>\n",
       "      <th>newDesk</th>\n",
       "      <th>printPage</th>\n",
       "      <th>pubDate</th>\n",
       "      <th>sectionName</th>\n",
       "      <th>snippet</th>\n",
       "      <th>source</th>\n",
       "      <th>typeOfMaterial</th>\n",
       "      <th>webURL</th>\n",
       "    </tr>\n",
       "  </thead>\n",
       "  <tbody>\n",
       "    <tr>\n",
       "      <th>0</th>\n",
       "      <td>5adf6684068401528a2aa69b</td>\n",
       "      <td>781</td>\n",
       "      <td>By JOHN BRANCH</td>\n",
       "      <td>article</td>\n",
       "      <td>Former N.F.L. Cheerleaders’ Settlement Offer: ...</td>\n",
       "      <td>['Workplace Hazards and Violations', 'Football...</td>\n",
       "      <td>68</td>\n",
       "      <td>Sports</td>\n",
       "      <td>0</td>\n",
       "      <td>2018-04-24 17:16:49</td>\n",
       "      <td>Pro Football</td>\n",
       "      <td>“I understand that they could meet with us, pa...</td>\n",
       "      <td>The New York Times</td>\n",
       "      <td>News</td>\n",
       "      <td>https://www.nytimes.com/2018/04/24/sports/foot...</td>\n",
       "    </tr>\n",
       "    <tr>\n",
       "      <th>1</th>\n",
       "      <td>5adf653f068401528a2aa697</td>\n",
       "      <td>656</td>\n",
       "      <td>By LISA FRIEDMAN</td>\n",
       "      <td>article</td>\n",
       "      <td>E.P.A. to Unveil a New Rule. Its Effect: Less ...</td>\n",
       "      <td>['Environmental Protection Agency', 'Pruitt, S...</td>\n",
       "      <td>68</td>\n",
       "      <td>Climate</td>\n",
       "      <td>0</td>\n",
       "      <td>2018-04-24 17:11:21</td>\n",
       "      <td>Unknown</td>\n",
       "      <td>The agency plans to publish a new regulation T...</td>\n",
       "      <td>The New York Times</td>\n",
       "      <td>News</td>\n",
       "      <td>https://www.nytimes.com/2018/04/24/climate/epa...</td>\n",
       "    </tr>\n",
       "    <tr>\n",
       "      <th>2</th>\n",
       "      <td>5adf4626068401528a2aa628</td>\n",
       "      <td>2427</td>\n",
       "      <td>By PETE WELLS</td>\n",
       "      <td>article</td>\n",
       "      <td>The New Noma, Explained</td>\n",
       "      <td>['Restaurants', 'Noma (Copenhagen, Restaurant)...</td>\n",
       "      <td>66</td>\n",
       "      <td>Dining</td>\n",
       "      <td>0</td>\n",
       "      <td>2018-04-24 14:58:44</td>\n",
       "      <td>Unknown</td>\n",
       "      <td>What’s it like to eat at the second incarnatio...</td>\n",
       "      <td>The New York Times</td>\n",
       "      <td>News</td>\n",
       "      <td>https://www.nytimes.com/2018/04/24/dining/noma...</td>\n",
       "    </tr>\n",
       "    <tr>\n",
       "      <th>3</th>\n",
       "      <td>5adf40d2068401528a2aa619</td>\n",
       "      <td>626</td>\n",
       "      <td>By JULIE HIRSCHFELD DAVIS and PETER BAKER</td>\n",
       "      <td>article</td>\n",
       "      <td>Unknown</td>\n",
       "      <td>['Macron, Emmanuel (1977- )', 'Trump, Donald J...</td>\n",
       "      <td>68</td>\n",
       "      <td>Washington</td>\n",
       "      <td>0</td>\n",
       "      <td>2018-04-24 14:35:57</td>\n",
       "      <td>Europe</td>\n",
       "      <td>President Trump welcomed President Emmanuel Ma...</td>\n",
       "      <td>The New York Times</td>\n",
       "      <td>News</td>\n",
       "      <td>https://www.nytimes.com/2018/04/24/world/europ...</td>\n",
       "    </tr>\n",
       "    <tr>\n",
       "      <th>4</th>\n",
       "      <td>5adf3d64068401528a2aa60f</td>\n",
       "      <td>815</td>\n",
       "      <td>By IAN AUSTEN and DAN BILEFSKY</td>\n",
       "      <td>article</td>\n",
       "      <td>Unknown</td>\n",
       "      <td>['Toronto, Ontario, Attack (April, 2018)', 'Mu...</td>\n",
       "      <td>68</td>\n",
       "      <td>Foreign</td>\n",
       "      <td>0</td>\n",
       "      <td>2018-04-24 14:21:21</td>\n",
       "      <td>Canada</td>\n",
       "      <td>Alek Minassian, 25, a resident of Toronto’s Ri...</td>\n",
       "      <td>The New York Times</td>\n",
       "      <td>News</td>\n",
       "      <td>https://www.nytimes.com/2018/04/24/world/canad...</td>\n",
       "    </tr>\n",
       "  </tbody>\n",
       "</table>\n",
       "</div>"
      ],
      "text/plain": [
       "                  articleID  ...                                             webURL\n",
       "0  5adf6684068401528a2aa69b  ...  https://www.nytimes.com/2018/04/24/sports/foot...\n",
       "1  5adf653f068401528a2aa697  ...  https://www.nytimes.com/2018/04/24/climate/epa...\n",
       "2  5adf4626068401528a2aa628  ...  https://www.nytimes.com/2018/04/24/dining/noma...\n",
       "3  5adf40d2068401528a2aa619  ...  https://www.nytimes.com/2018/04/24/world/europ...\n",
       "4  5adf3d64068401528a2aa60f  ...  https://www.nytimes.com/2018/04/24/world/canad...\n",
       "\n",
       "[5 rows x 15 columns]"
      ]
     },
     "execution_count": 21,
     "metadata": {},
     "output_type": "execute_result"
    }
   ],
   "source": [
    "import pandas as pd\n",
    "import numpy as np\n",
    "from string import punctuation\n",
    "\n",
    "from tensorflow.keras.preprocessing.text import Tokenizer\n",
    "from tensorflow.keras.preprocessing.sequence import pad_sequences\n",
    "from tensorflow.keras.utils import to_categorical\n",
    "\n",
    "df = pd.read_csv('C:/Users/Myeong/dding/data/ArticlesApril2018.csv')\n",
    "df.head()"
   ]
  },
  {
   "cell_type": "code",
   "execution_count": 23,
   "id": "f8193c54",
   "metadata": {},
   "outputs": [
    {
     "name": "stdout",
     "output_type": "stream",
     "text": [
      "Index(['articleID', 'articleWordCount', 'byline', 'documentType', 'headline',\n",
      "       'keywords', 'multimedia', 'newDesk', 'printPage', 'pubDate',\n",
      "       'sectionName', 'snippet', 'source', 'typeOfMaterial', 'webURL'],\n",
      "      dtype='object')\n",
      "15\n"
     ]
    }
   ],
   "source": [
    "print(df.columns)\n",
    "print(len(df.columns))"
   ]
  },
  {
   "cell_type": "code",
   "execution_count": 24,
   "id": "6d168b44",
   "metadata": {},
   "outputs": [
    {
     "data": {
      "text/plain": [
       "0"
      ]
     },
     "execution_count": 24,
     "metadata": {},
     "output_type": "execute_result"
    }
   ],
   "source": [
    "df['headline'].isnull().sum()"
   ]
  },
  {
   "cell_type": "code",
   "execution_count": 25,
   "id": "290a6efe",
   "metadata": {},
   "outputs": [
    {
     "data": {
      "text/plain": [
       "['Former N.F.L. Cheerleaders’ Settlement Offer: $1 and a Meeting With Goodell',\n",
       " 'E.P.A. to Unveil a New Rule. Its Effect: Less Science in Policymaking.',\n",
       " 'The New Noma, Explained']"
      ]
     },
     "execution_count": 25,
     "metadata": {},
     "output_type": "execute_result"
    }
   ],
   "source": [
    "headline = []\n",
    "headline.extend(list(df.headline.values))\n",
    "headline[:3]"
   ]
  },
  {
   "cell_type": "code",
   "execution_count": 26,
   "id": "baccccf2",
   "metadata": {},
   "outputs": [
    {
     "name": "stdout",
     "output_type": "stream",
     "text": [
      "1324\n",
      "1214\n"
     ]
    }
   ],
   "source": [
    "print(len(headline))\n",
    "headline = [x for x in headline if x != 'Unknown']\n",
    "print(len(headline))"
   ]
  },
  {
   "cell_type": "code",
   "execution_count": null,
   "id": "d30eb484",
   "metadata": {},
   "outputs": [],
   "source": []
  }
 ],
 "metadata": {
  "kernelspec": {
   "display_name": "jin",
   "language": "python",
   "name": "jin"
  },
  "language_info": {
   "codemirror_mode": {
    "name": "ipython",
    "version": 3
   },
   "file_extension": ".py",
   "mimetype": "text/x-python",
   "name": "python",
   "nbconvert_exporter": "python",
   "pygments_lexer": "ipython3",
   "version": "3.8.0"
  }
 },
 "nbformat": 4,
 "nbformat_minor": 5
}
