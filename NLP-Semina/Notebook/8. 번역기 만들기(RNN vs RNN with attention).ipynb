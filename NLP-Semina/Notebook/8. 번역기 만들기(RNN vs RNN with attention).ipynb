{
 "cells": [
  {
   "attachments": {},
   "cell_type": "markdown",
   "metadata": {},
   "source": [
    "# 1. Seq2Seq (Only RNN)"
   ]
  },
  {
   "cell_type": "code",
   "execution_count": 1,
   "metadata": {},
   "outputs": [],
   "source": [
    "import tensorflow as tf\n",
    "import matplotlib.pyplot as plt\n",
    "from tensorflow.keras.layers import Input, LSTM, Embedding, Dense\n",
    "from tensorflow.keras.models import Model\n",
    "\n",
    "import numpy as np\n",
    "import pandas as pd\n",
    "import time\n",
    "import re\n",
    "from unidecode import unidecode"
   ]
  },
  {
   "cell_type": "code",
   "execution_count": 2,
   "metadata": {},
   "outputs": [
    {
     "data": {
      "text/html": [
       "<div>\n",
       "<style scoped>\n",
       "    .dataframe tbody tr th:only-of-type {\n",
       "        vertical-align: middle;\n",
       "    }\n",
       "\n",
       "    .dataframe tbody tr th {\n",
       "        vertical-align: top;\n",
       "    }\n",
       "\n",
       "    .dataframe thead th {\n",
       "        text-align: right;\n",
       "    }\n",
       "</style>\n",
       "<table border=\"1\" class=\"dataframe\">\n",
       "  <thead>\n",
       "    <tr style=\"text-align: right;\">\n",
       "      <th></th>\n",
       "      <th>en</th>\n",
       "      <th>sp</th>\n",
       "      <th>cc</th>\n",
       "    </tr>\n",
       "  </thead>\n",
       "  <tbody>\n",
       "    <tr>\n",
       "      <th>0</th>\n",
       "      <td>Go.</td>\n",
       "      <td>Ve.</td>\n",
       "      <td>CC-BY 2.0 (France) Attribution: tatoeba.org #2...</td>\n",
       "    </tr>\n",
       "    <tr>\n",
       "      <th>1</th>\n",
       "      <td>Go.</td>\n",
       "      <td>Vete.</td>\n",
       "      <td>CC-BY 2.0 (France) Attribution: tatoeba.org #2...</td>\n",
       "    </tr>\n",
       "    <tr>\n",
       "      <th>2</th>\n",
       "      <td>Go.</td>\n",
       "      <td>Vaya.</td>\n",
       "      <td>CC-BY 2.0 (France) Attribution: tatoeba.org #2...</td>\n",
       "    </tr>\n",
       "    <tr>\n",
       "      <th>3</th>\n",
       "      <td>Go.</td>\n",
       "      <td>Váyase.</td>\n",
       "      <td>CC-BY 2.0 (France) Attribution: tatoeba.org #2...</td>\n",
       "    </tr>\n",
       "    <tr>\n",
       "      <th>4</th>\n",
       "      <td>Hi.</td>\n",
       "      <td>Hola.</td>\n",
       "      <td>CC-BY 2.0 (France) Attribution: tatoeba.org #5...</td>\n",
       "    </tr>\n",
       "    <tr>\n",
       "      <th>...</th>\n",
       "      <td>...</td>\n",
       "      <td>...</td>\n",
       "      <td>...</td>\n",
       "    </tr>\n",
       "    <tr>\n",
       "      <th>139008</th>\n",
       "      <td>A carbon footprint is the amount of carbon dio...</td>\n",
       "      <td>Una huella de carbono es la cantidad de contam...</td>\n",
       "      <td>CC-BY 2.0 (France) Attribution: tatoeba.org #1...</td>\n",
       "    </tr>\n",
       "    <tr>\n",
       "      <th>139009</th>\n",
       "      <td>Since there are usually multiple websites on a...</td>\n",
       "      <td>Como suele haber varias páginas web sobre cual...</td>\n",
       "      <td>CC-BY 2.0 (France) Attribution: tatoeba.org #9...</td>\n",
       "    </tr>\n",
       "    <tr>\n",
       "      <th>139010</th>\n",
       "      <td>If you want to sound like a native speaker, yo...</td>\n",
       "      <td>Si quieres sonar como un hablante nativo, debe...</td>\n",
       "      <td>CC-BY 2.0 (France) Attribution: tatoeba.org #9...</td>\n",
       "    </tr>\n",
       "    <tr>\n",
       "      <th>139011</th>\n",
       "      <td>It may be impossible to get a completely error...</td>\n",
       "      <td>Puede que sea imposible obtener un corpus comp...</td>\n",
       "      <td>CC-BY 2.0 (France) Attribution: tatoeba.org #2...</td>\n",
       "    </tr>\n",
       "    <tr>\n",
       "      <th>139012</th>\n",
       "      <td>One day, I woke up to find that God had put ha...</td>\n",
       "      <td>Un día, me desperté y vi que Dios me había pue...</td>\n",
       "      <td>CC-BY 2.0 (France) Attribution: tatoeba.org #1...</td>\n",
       "    </tr>\n",
       "  </tbody>\n",
       "</table>\n",
       "<p>139013 rows × 3 columns</p>\n",
       "</div>"
      ],
      "text/plain": [
       "                                                       en  \\\n",
       "0                                                     Go.   \n",
       "1                                                     Go.   \n",
       "2                                                     Go.   \n",
       "3                                                     Go.   \n",
       "4                                                     Hi.   \n",
       "...                                                   ...   \n",
       "139008  A carbon footprint is the amount of carbon dio...   \n",
       "139009  Since there are usually multiple websites on a...   \n",
       "139010  If you want to sound like a native speaker, yo...   \n",
       "139011  It may be impossible to get a completely error...   \n",
       "139012  One day, I woke up to find that God had put ha...   \n",
       "\n",
       "                                                       sp  \\\n",
       "0                                                     Ve.   \n",
       "1                                                   Vete.   \n",
       "2                                                   Vaya.   \n",
       "3                                                 Váyase.   \n",
       "4                                                   Hola.   \n",
       "...                                                   ...   \n",
       "139008  Una huella de carbono es la cantidad de contam...   \n",
       "139009  Como suele haber varias páginas web sobre cual...   \n",
       "139010  Si quieres sonar como un hablante nativo, debe...   \n",
       "139011  Puede que sea imposible obtener un corpus comp...   \n",
       "139012  Un día, me desperté y vi que Dios me había pue...   \n",
       "\n",
       "                                                       cc  \n",
       "0       CC-BY 2.0 (France) Attribution: tatoeba.org #2...  \n",
       "1       CC-BY 2.0 (France) Attribution: tatoeba.org #2...  \n",
       "2       CC-BY 2.0 (France) Attribution: tatoeba.org #2...  \n",
       "3       CC-BY 2.0 (France) Attribution: tatoeba.org #2...  \n",
       "4       CC-BY 2.0 (France) Attribution: tatoeba.org #5...  \n",
       "...                                                   ...  \n",
       "139008  CC-BY 2.0 (France) Attribution: tatoeba.org #1...  \n",
       "139009  CC-BY 2.0 (France) Attribution: tatoeba.org #9...  \n",
       "139010  CC-BY 2.0 (France) Attribution: tatoeba.org #9...  \n",
       "139011  CC-BY 2.0 (France) Attribution: tatoeba.org #2...  \n",
       "139012  CC-BY 2.0 (France) Attribution: tatoeba.org #1...  \n",
       "\n",
       "[139013 rows x 3 columns]"
      ]
     },
     "execution_count": 2,
     "metadata": {},
     "output_type": "execute_result"
    }
   ],
   "source": [
    "file_path = 'C:/Users/Myeong/dding/data/nmt_attention/spa-eng/spa.txt'\n",
    "\n",
    "all_data = pd.read_csv(file_path, names=['en', 'sp', 'cc'], sep='\\t')\n",
    "all_data"
   ]
  },
  {
   "cell_type": "code",
   "execution_count": 3,
   "metadata": {},
   "outputs": [
    {
     "data": {
      "text/html": [
       "<div>\n",
       "<style scoped>\n",
       "    .dataframe tbody tr th:only-of-type {\n",
       "        vertical-align: middle;\n",
       "    }\n",
       "\n",
       "    .dataframe tbody tr th {\n",
       "        vertical-align: top;\n",
       "    }\n",
       "\n",
       "    .dataframe thead th {\n",
       "        text-align: right;\n",
       "    }\n",
       "</style>\n",
       "<table border=\"1\" class=\"dataframe\">\n",
       "  <thead>\n",
       "    <tr style=\"text-align: right;\">\n",
       "      <th></th>\n",
       "      <th>en</th>\n",
       "      <th>sp</th>\n",
       "      <th>pre_en</th>\n",
       "      <th>pre_sp</th>\n",
       "    </tr>\n",
       "  </thead>\n",
       "  <tbody>\n",
       "    <tr>\n",
       "      <th>110000</th>\n",
       "      <td>I've already finished reading this book.</td>\n",
       "      <td>Ya me he acabado este libro.</td>\n",
       "      <td>&lt;start&gt; i ve already finished reading this boo...</td>\n",
       "      <td>&lt;start&gt; ya me he acabado este libro . &lt;end&gt;</td>\n",
       "    </tr>\n",
       "    <tr>\n",
       "      <th>110001</th>\n",
       "      <td>I've always thought you were a Canadian.</td>\n",
       "      <td>Siempre he pensado que eras canadiense.</td>\n",
       "      <td>&lt;start&gt; i ve always thought you were a canadia...</td>\n",
       "      <td>&lt;start&gt; siempre he pensado que eras canadiense...</td>\n",
       "    </tr>\n",
       "    <tr>\n",
       "      <th>110002</th>\n",
       "      <td>I've always wanted to learn how to swim.</td>\n",
       "      <td>Siempre he querido aprender a nadar.</td>\n",
       "      <td>&lt;start&gt; i ve always wanted to learn how to swi...</td>\n",
       "      <td>&lt;start&gt; siempre he querido aprender a nadar . ...</td>\n",
       "    </tr>\n",
       "    <tr>\n",
       "      <th>110003</th>\n",
       "      <td>I've always wanted to play the trombone.</td>\n",
       "      <td>Siempre he querido tocar el trombón.</td>\n",
       "      <td>&lt;start&gt; i ve always wanted to play the trombon...</td>\n",
       "      <td>&lt;start&gt; siempre he querido tocar el trombon . ...</td>\n",
       "    </tr>\n",
       "    <tr>\n",
       "      <th>110004</th>\n",
       "      <td>I've been able to read since I was five.</td>\n",
       "      <td>He podido leer desde que tenía cinco años.</td>\n",
       "      <td>&lt;start&gt; i ve been able to read since i was fiv...</td>\n",
       "      <td>&lt;start&gt; he podido leer desde que tenia cinco a...</td>\n",
       "    </tr>\n",
       "    <tr>\n",
       "      <th>...</th>\n",
       "      <td>...</td>\n",
       "      <td>...</td>\n",
       "      <td>...</td>\n",
       "      <td>...</td>\n",
       "    </tr>\n",
       "    <tr>\n",
       "      <th>139008</th>\n",
       "      <td>A carbon footprint is the amount of carbon dio...</td>\n",
       "      <td>Una huella de carbono es la cantidad de contam...</td>\n",
       "      <td>&lt;start&gt; a carbon footprint is the amount of ca...</td>\n",
       "      <td>&lt;start&gt; una huella de carbono es la cantidad d...</td>\n",
       "    </tr>\n",
       "    <tr>\n",
       "      <th>139009</th>\n",
       "      <td>Since there are usually multiple websites on a...</td>\n",
       "      <td>Como suele haber varias páginas web sobre cual...</td>\n",
       "      <td>&lt;start&gt; since there are usually multiple websi...</td>\n",
       "      <td>&lt;start&gt; como suele haber varias paginas web so...</td>\n",
       "    </tr>\n",
       "    <tr>\n",
       "      <th>139010</th>\n",
       "      <td>If you want to sound like a native speaker, yo...</td>\n",
       "      <td>Si quieres sonar como un hablante nativo, debe...</td>\n",
       "      <td>&lt;start&gt; if you want to sound like a native spe...</td>\n",
       "      <td>&lt;start&gt; si quieres sonar como un hablante nati...</td>\n",
       "    </tr>\n",
       "    <tr>\n",
       "      <th>139011</th>\n",
       "      <td>It may be impossible to get a completely error...</td>\n",
       "      <td>Puede que sea imposible obtener un corpus comp...</td>\n",
       "      <td>&lt;start&gt; it may be impossible to get a complete...</td>\n",
       "      <td>&lt;start&gt; puede que sea imposible obtener un cor...</td>\n",
       "    </tr>\n",
       "    <tr>\n",
       "      <th>139012</th>\n",
       "      <td>One day, I woke up to find that God had put ha...</td>\n",
       "      <td>Un día, me desperté y vi que Dios me había pue...</td>\n",
       "      <td>&lt;start&gt; one day , i woke up to find that god h...</td>\n",
       "      <td>&lt;start&gt; un dia , me desperte y vi que dios me ...</td>\n",
       "    </tr>\n",
       "  </tbody>\n",
       "</table>\n",
       "<p>29013 rows × 4 columns</p>\n",
       "</div>"
      ],
      "text/plain": [
       "                                                       en  \\\n",
       "110000           I've already finished reading this book.   \n",
       "110001           I've always thought you were a Canadian.   \n",
       "110002           I've always wanted to learn how to swim.   \n",
       "110003           I've always wanted to play the trombone.   \n",
       "110004           I've been able to read since I was five.   \n",
       "...                                                   ...   \n",
       "139008  A carbon footprint is the amount of carbon dio...   \n",
       "139009  Since there are usually multiple websites on a...   \n",
       "139010  If you want to sound like a native speaker, yo...   \n",
       "139011  It may be impossible to get a completely error...   \n",
       "139012  One day, I woke up to find that God had put ha...   \n",
       "\n",
       "                                                       sp  \\\n",
       "110000                       Ya me he acabado este libro.   \n",
       "110001            Siempre he pensado que eras canadiense.   \n",
       "110002               Siempre he querido aprender a nadar.   \n",
       "110003               Siempre he querido tocar el trombón.   \n",
       "110004         He podido leer desde que tenía cinco años.   \n",
       "...                                                   ...   \n",
       "139008  Una huella de carbono es la cantidad de contam...   \n",
       "139009  Como suele haber varias páginas web sobre cual...   \n",
       "139010  Si quieres sonar como un hablante nativo, debe...   \n",
       "139011  Puede que sea imposible obtener un corpus comp...   \n",
       "139012  Un día, me desperté y vi que Dios me había pue...   \n",
       "\n",
       "                                                   pre_en  \\\n",
       "110000  <start> i ve already finished reading this boo...   \n",
       "110001  <start> i ve always thought you were a canadia...   \n",
       "110002  <start> i ve always wanted to learn how to swi...   \n",
       "110003  <start> i ve always wanted to play the trombon...   \n",
       "110004  <start> i ve been able to read since i was fiv...   \n",
       "...                                                   ...   \n",
       "139008  <start> a carbon footprint is the amount of ca...   \n",
       "139009  <start> since there are usually multiple websi...   \n",
       "139010  <start> if you want to sound like a native spe...   \n",
       "139011  <start> it may be impossible to get a complete...   \n",
       "139012  <start> one day , i woke up to find that god h...   \n",
       "\n",
       "                                                   pre_sp  \n",
       "110000        <start> ya me he acabado este libro . <end>  \n",
       "110001  <start> siempre he pensado que eras canadiense...  \n",
       "110002  <start> siempre he querido aprender a nadar . ...  \n",
       "110003  <start> siempre he querido tocar el trombon . ...  \n",
       "110004  <start> he podido leer desde que tenia cinco a...  \n",
       "...                                                   ...  \n",
       "139008  <start> una huella de carbono es la cantidad d...  \n",
       "139009  <start> como suele haber varias paginas web so...  \n",
       "139010  <start> si quieres sonar como un hablante nati...  \n",
       "139011  <start> puede que sea imposible obtener un cor...  \n",
       "139012  <start> un dia , me desperte y vi que dios me ...  \n",
       "\n",
       "[29013 rows x 4 columns]"
      ]
     },
     "execution_count": 3,
     "metadata": {},
     "output_type": "execute_result"
    }
   ],
   "source": [
    "def preprocess_sentence(s):\n",
    "    s = unidecode(s)\n",
    "    s = s.lower().strip()\n",
    "    s = re.sub(r\"([?.!,¿])\", r\" \\1 \", s)\n",
    "    s = re.sub(r'[\" \"]+', \" \", s)\n",
    "    s = re.sub(r\"[^a-zA-Z?.!,¿]+\", \" \", s)\n",
    "    s = s.strip()\n",
    "    s = '<start> ' + s + ' <end>'\n",
    "    return s\n",
    "\n",
    "data = all_data[['en', 'sp']][110000:]\n",
    "data['pre_en'] = data['en'].apply(preprocess_sentence)\n",
    "data['pre_sp'] = data['sp'].apply(preprocess_sentence)\n",
    "data"
   ]
  },
  {
   "cell_type": "code",
   "execution_count": 4,
   "metadata": {},
   "outputs": [],
   "source": [
    "def tokenize(lang):\n",
    "    tokenizer = tf.keras.preprocessing.text.Tokenizer(filters='')\n",
    "    tokenizer.fit_on_texts(lang)\n",
    "\n",
    "    tensor = tokenizer.texts_to_sequences(lang)\n",
    "    tensor = tf.keras.preprocessing.sequence.pad_sequences(tensor, padding='post')\n",
    "    return tensor, tokenizer\n",
    "\n",
    "def load_dataset(data):\n",
    "    input_sentence = data['pre_sp']\n",
    "    output_sentence = data['pre_en']\n",
    "\n",
    "    input_tensor, input_tokenizer = tokenize(input_sentence)\n",
    "    output_tensor, output_tokenizer = tokenize(output_sentence)\n",
    "\n",
    "    return input_tensor, input_tokenizer, output_tensor, output_tokenizer\n",
    "\n",
    "sp_tensor, sp_tokenizer, en_tensor, en_tokenizer = load_dataset(data)"
   ]
  },
  {
   "cell_type": "code",
   "execution_count": 5,
   "metadata": {},
   "outputs": [
    {
     "name": "stdout",
     "output_type": "stream",
     "text": [
      "80 83\n"
     ]
    }
   ],
   "source": [
    "max_input_len, max_target_len = sp_tensor.shape[1], en_tensor.shape[1]\n",
    "print(max_input_len ,max_target_len)"
   ]
  },
  {
   "cell_type": "code",
   "execution_count": 6,
   "metadata": {},
   "outputs": [
    {
     "name": "stdout",
     "output_type": "stream",
     "text": [
      "9832 16466\n"
     ]
    }
   ],
   "source": [
    "sp_vocab_size = len(sp_tokenizer.word_index) + 1\n",
    "en_vocab_size = len(en_tokenizer.word_index) + 1\n",
    "print(en_vocab_size, sp_vocab_size)\n"
   ]
  },
  {
   "cell_type": "code",
   "execution_count": 7,
   "metadata": {},
   "outputs": [
    {
     "name": "stdout",
     "output_type": "stream",
     "text": [
      "(29013, 80)\n",
      "(29013, 82)\n",
      "(29013, 82)\n",
      "[[   1    6   75  253  398  390   25  185    3    0    0    0    0    0\n",
      "     0    0    0    0    0    0    0    0    0    0    0    0    0    0\n",
      "     0    0    0    0    0    0    0    0    0    0    0    0    0    0\n",
      "     0    0    0    0    0    0    0    0    0    0    0    0    0    0\n",
      "     0    0    0    0    0    0    0    0    0    0    0    0    0    0\n",
      "     0    0    0    0    0    0    0    0    0    0    0    0]\n",
      " [   1    6   75  125  100    7   67    8 1237    3    0    0    0    0\n",
      "     0    0    0    0    0    0    0    0    0    0    0    0    0    0\n",
      "     0    0    0    0    0    0    0    0    0    0    0    0    0    0\n",
      "     0    0    0    0    0    0    0    0    0    0    0    0    0    0\n",
      "     0    0    0    0    0    0    0    0    0    0    0    0    0    0\n",
      "     0    0    0    0    0    0    0    0    0    0    0    0]]\n",
      "[[   6   75  253  398  390   25  185    3    2    0    0    0    0    0\n",
      "     0    0    0    0    0    0    0    0    0    0    0    0    0    0\n",
      "     0    0    0    0    0    0    0    0    0    0    0    0    0    0\n",
      "     0    0    0    0    0    0    0    0    0    0    0    0    0    0\n",
      "     0    0    0    0    0    0    0    0    0    0    0    0    0    0\n",
      "     0    0    0    0    0    0    0    0    0    0    0    0]\n",
      " [   6   75  125  100    7   67    8 1237    3    2    0    0    0    0\n",
      "     0    0    0    0    0    0    0    0    0    0    0    0    0    0\n",
      "     0    0    0    0    0    0    0    0    0    0    0    0    0    0\n",
      "     0    0    0    0    0    0    0    0    0    0    0    0    0    0\n",
      "     0    0    0    0    0    0    0    0    0    0    0    0    0    0\n",
      "     0    0    0    0    0    0    0    0    0    0    0    0]]\n"
     ]
    }
   ],
   "source": [
    "# encoder input, decoder input, decoder output 정의\n",
    "encoder_input = sp_tensor\n",
    "\n",
    "decoder_input = np.array([[char for char in line if char != en_tokenizer.word_index['<end>']] for line in en_tensor]) # '<end>' 토큰의 번호가 3이기 때문에 삭제\n",
    "decoder_output = np.array([[char for char in line if char != en_tokenizer.word_index['<start>']] for line in en_tensor]) # '<start>' 토큰의 번호가 2이기 때문에 삭제\n",
    "\n",
    "print(np.shape(encoder_input))\n",
    "print(np.shape(decoder_input))\n",
    "print(np.shape(decoder_output))\n",
    "print(decoder_input[:2])\n",
    "print(decoder_output[:2])"
   ]
  },
  {
   "cell_type": "code",
   "execution_count": 8,
   "metadata": {},
   "outputs": [
    {
     "name": "stdout",
     "output_type": "stream",
     "text": [
      "스페인어 학습데이터의 크기(shape) : (28013, 80)\n",
      "영어 학습 입력데이터의 크기(shape) : (28013, 82)\n",
      "영어 학습 출력데이터의 크기(shape) : (28013, 82)\n",
      "스페인어 Valid 데이터의 크기(shape) : (1000, 80)\n",
      "영어 Valid 입력데이터의 크기(shape) : (1000, 82)\n",
      "영어 Valid 출력데이터의 크기(shape) : (1000, 82)\n"
     ]
    }
   ],
   "source": [
    "n_of_val = 1000\n",
    "\n",
    "encoder_input_train = encoder_input[:-n_of_val]\n",
    "decoder_input_train = decoder_input[:-n_of_val]\n",
    "decoder_output_train = decoder_output[:-n_of_val]\n",
    "\n",
    "encoder_input_test = encoder_input[-n_of_val:]\n",
    "decoder_input_test = decoder_input[-n_of_val:]\n",
    "decoder_output_test = decoder_output[-n_of_val:]\n",
    "\n",
    "print('스페인어 학습데이터의 크기(shape) :',np.shape(encoder_input_train))\n",
    "print('영어 학습 입력데이터의 크기(shape) :',np.shape(decoder_input_train))\n",
    "print('영어 학습 출력데이터의 크기(shape) :',np.shape(decoder_output_train))\n",
    "\n",
    "print('스페인어 Valid 데이터의 크기(shape) :',np.shape(encoder_input_test))\n",
    "print('영어 Valid 입력데이터의 크기(shape) :',np.shape(decoder_input_test))\n",
    "print('영어 Valid 출력데이터의 크기(shape) :',np.shape(decoder_output_test))"
   ]
  },
  {
   "cell_type": "code",
   "execution_count": 9,
   "metadata": {},
   "outputs": [
    {
     "name": "stdout",
     "output_type": "stream",
     "text": [
      "Model: \"model\"\n",
      "__________________________________________________________________________________________________\n",
      " Layer (type)                   Output Shape         Param #     Connected to                     \n",
      "==================================================================================================\n",
      " input_1 (InputLayer)           [(None, None)]       0           []                               \n",
      "                                                                                                  \n",
      " input_2 (InputLayer)           [(None, None)]       0           []                               \n",
      "                                                                                                  \n",
      " embedding (Embedding)          (None, None, 256)    4215296     ['input_1[0][0]']                \n",
      "                                                                                                  \n",
      " embedding_1 (Embedding)        (None, None, 256)    2516992     ['input_2[0][0]']                \n",
      "                                                                                                  \n",
      " lstm (LSTM)                    [(None, 1024),       5246976     ['embedding[0][0]']              \n",
      "                                 (None, 1024),                                                    \n",
      "                                 (None, 1024)]                                                    \n",
      "                                                                                                  \n",
      " lstm_1 (LSTM)                  [(None, None, 1024)  5246976     ['embedding_1[0][0]',            \n",
      "                                , (None, 1024),                   'lstm[0][1]',                   \n",
      "                                 (None, 1024)]                    'lstm[0][2]']                   \n",
      "                                                                                                  \n",
      " dense (Dense)                  (None, None, 9832)   10077800    ['lstm_1[0][0]']                 \n",
      "                                                                                                  \n",
      "==================================================================================================\n",
      "Total params: 27,304,040\n",
      "Trainable params: 27,304,040\n",
      "Non-trainable params: 0\n",
      "__________________________________________________________________________________________________\n"
     ]
    }
   ],
   "source": [
    "# 모델 훈련\n",
    "from tensorflow.keras.layers import Input, LSTM, Embedding, Dense, Masking\n",
    "from tensorflow.keras.models import Model\n",
    "\n",
    "embedding_dim = 256\n",
    "hidden_units = 1024\n",
    "\n",
    "encoder_inputs = Input(shape=(None,))\n",
    "enc_emb = Embedding(sp_vocab_size, embedding_dim, input_length=max_input_len)(encoder_inputs)\n",
    "encoder_lstm = LSTM(hidden_units, return_state=True)\n",
    "encoder_outputs, state_h, state_c = encoder_lstm(enc_emb)\n",
    "encoder_states = [state_h, state_c]\n",
    "\n",
    "\n",
    "decoder_inputs = Input(shape=(None,))\n",
    "dec_emb = Embedding(en_vocab_size, embedding_dim)\n",
    "dec_emb_layer = dec_emb(decoder_inputs)\n",
    "decoder_lstm = LSTM(hidden_units, return_sequences=True, return_state=True)\n",
    "decoder_outputs, _, _ = decoder_lstm(dec_emb_layer, initial_state=encoder_states)\n",
    "\n",
    "decoder_dense = Dense(en_vocab_size, activation='softmax')\n",
    "decoder_outputs = decoder_dense(decoder_outputs)\n",
    "\n",
    "model = Model([encoder_inputs, decoder_inputs], decoder_outputs)\n",
    "model.compile(optimizer='adam', loss='sparse_categorical_crossentropy')\n",
    "model.summary()"
   ]
  },
  {
   "cell_type": "code",
   "execution_count": 10,
   "metadata": {},
   "outputs": [
    {
     "name": "stdout",
     "output_type": "stream",
     "text": [
      "Epoch 1/10\n",
      "438/438 [==============================] - 24s 46ms/step - loss: 1.0339 - val_loss: 1.5276\n",
      "Epoch 2/10\n",
      " 77/438 [====>.........................] - ETA: 15s - loss: 0.7000"
     ]
    },
    {
     "ename": "KeyboardInterrupt",
     "evalue": "",
     "output_type": "error",
     "traceback": [
      "\u001b[1;31m---------------------------------------------------------------------------\u001b[0m",
      "\u001b[1;31mKeyboardInterrupt\u001b[0m                         Traceback (most recent call last)",
      "Cell \u001b[1;32mIn[10], line 1\u001b[0m\n\u001b[1;32m----> 1\u001b[0m model\u001b[39m.\u001b[39;49mfit(x \u001b[39m=\u001b[39;49m [encoder_input_train, decoder_input_train],\n\u001b[0;32m      2\u001b[0m           y \u001b[39m=\u001b[39;49m decoder_output_train,\n\u001b[0;32m      3\u001b[0m           validation_data \u001b[39m=\u001b[39;49m ([encoder_input_test, decoder_input_test], decoder_output_test),\n\u001b[0;32m      4\u001b[0m           batch_size\u001b[39m=\u001b[39;49m\u001b[39m64\u001b[39;49m,\n\u001b[0;32m      5\u001b[0m           epochs\u001b[39m=\u001b[39;49m\u001b[39m10\u001b[39;49m,\n\u001b[0;32m      6\u001b[0m           )\n",
      "File \u001b[1;32mc:\\Users\\Myeong\\anaconda3\\envs\\jin\\lib\\site-packages\\keras\\utils\\traceback_utils.py:65\u001b[0m, in \u001b[0;36mfilter_traceback.<locals>.error_handler\u001b[1;34m(*args, **kwargs)\u001b[0m\n\u001b[0;32m     63\u001b[0m filtered_tb \u001b[39m=\u001b[39m \u001b[39mNone\u001b[39;00m\n\u001b[0;32m     64\u001b[0m \u001b[39mtry\u001b[39;00m:\n\u001b[1;32m---> 65\u001b[0m     \u001b[39mreturn\u001b[39;00m fn(\u001b[39m*\u001b[39;49margs, \u001b[39m*\u001b[39;49m\u001b[39m*\u001b[39;49mkwargs)\n\u001b[0;32m     66\u001b[0m \u001b[39mexcept\u001b[39;00m \u001b[39mException\u001b[39;00m \u001b[39mas\u001b[39;00m e:\n\u001b[0;32m     67\u001b[0m     filtered_tb \u001b[39m=\u001b[39m _process_traceback_frames(e\u001b[39m.\u001b[39m__traceback__)\n",
      "File \u001b[1;32mc:\\Users\\Myeong\\anaconda3\\envs\\jin\\lib\\site-packages\\keras\\engine\\training.py:1570\u001b[0m, in \u001b[0;36mModel.fit\u001b[1;34m(self, x, y, batch_size, epochs, verbose, callbacks, validation_split, validation_data, shuffle, class_weight, sample_weight, initial_epoch, steps_per_epoch, validation_steps, validation_batch_size, validation_freq, max_queue_size, workers, use_multiprocessing)\u001b[0m\n\u001b[0;32m   1568\u001b[0m logs \u001b[39m=\u001b[39m tmp_logs\n\u001b[0;32m   1569\u001b[0m end_step \u001b[39m=\u001b[39m step \u001b[39m+\u001b[39m data_handler\u001b[39m.\u001b[39mstep_increment\n\u001b[1;32m-> 1570\u001b[0m callbacks\u001b[39m.\u001b[39;49mon_train_batch_end(end_step, logs)\n\u001b[0;32m   1571\u001b[0m \u001b[39mif\u001b[39;00m \u001b[39mself\u001b[39m\u001b[39m.\u001b[39mstop_training:\n\u001b[0;32m   1572\u001b[0m     \u001b[39mbreak\u001b[39;00m\n",
      "File \u001b[1;32mc:\\Users\\Myeong\\anaconda3\\envs\\jin\\lib\\site-packages\\keras\\callbacks.py:470\u001b[0m, in \u001b[0;36mCallbackList.on_train_batch_end\u001b[1;34m(self, batch, logs)\u001b[0m\n\u001b[0;32m    463\u001b[0m \u001b[39m\"\"\"Calls the `on_train_batch_end` methods of its callbacks.\u001b[39;00m\n\u001b[0;32m    464\u001b[0m \n\u001b[0;32m    465\u001b[0m \u001b[39mArgs:\u001b[39;00m\n\u001b[0;32m    466\u001b[0m \u001b[39m    batch: Integer, index of batch within the current epoch.\u001b[39;00m\n\u001b[0;32m    467\u001b[0m \u001b[39m    logs: Dict. Aggregated metric results up until this batch.\u001b[39;00m\n\u001b[0;32m    468\u001b[0m \u001b[39m\"\"\"\u001b[39;00m\n\u001b[0;32m    469\u001b[0m \u001b[39mif\u001b[39;00m \u001b[39mself\u001b[39m\u001b[39m.\u001b[39m_should_call_train_batch_hooks:\n\u001b[1;32m--> 470\u001b[0m     \u001b[39mself\u001b[39;49m\u001b[39m.\u001b[39;49m_call_batch_hook(ModeKeys\u001b[39m.\u001b[39;49mTRAIN, \u001b[39m\"\u001b[39;49m\u001b[39mend\u001b[39;49m\u001b[39m\"\u001b[39;49m, batch, logs\u001b[39m=\u001b[39;49mlogs)\n",
      "File \u001b[1;32mc:\\Users\\Myeong\\anaconda3\\envs\\jin\\lib\\site-packages\\keras\\callbacks.py:317\u001b[0m, in \u001b[0;36mCallbackList._call_batch_hook\u001b[1;34m(self, mode, hook, batch, logs)\u001b[0m\n\u001b[0;32m    315\u001b[0m     \u001b[39mself\u001b[39m\u001b[39m.\u001b[39m_call_batch_begin_hook(mode, batch, logs)\n\u001b[0;32m    316\u001b[0m \u001b[39melif\u001b[39;00m hook \u001b[39m==\u001b[39m \u001b[39m\"\u001b[39m\u001b[39mend\u001b[39m\u001b[39m\"\u001b[39m:\n\u001b[1;32m--> 317\u001b[0m     \u001b[39mself\u001b[39;49m\u001b[39m.\u001b[39;49m_call_batch_end_hook(mode, batch, logs)\n\u001b[0;32m    318\u001b[0m \u001b[39melse\u001b[39;00m:\n\u001b[0;32m    319\u001b[0m     \u001b[39mraise\u001b[39;00m \u001b[39mValueError\u001b[39;00m(\n\u001b[0;32m    320\u001b[0m         \u001b[39mf\u001b[39m\u001b[39m\"\u001b[39m\u001b[39mUnrecognized hook: \u001b[39m\u001b[39m{\u001b[39;00mhook\u001b[39m}\u001b[39;00m\u001b[39m. \u001b[39m\u001b[39m\"\u001b[39m\n\u001b[0;32m    321\u001b[0m         \u001b[39m'\u001b[39m\u001b[39mExpected values are [\u001b[39m\u001b[39m\"\u001b[39m\u001b[39mbegin\u001b[39m\u001b[39m\"\u001b[39m\u001b[39m, \u001b[39m\u001b[39m\"\u001b[39m\u001b[39mend\u001b[39m\u001b[39m\"\u001b[39m\u001b[39m]\u001b[39m\u001b[39m'\u001b[39m\n\u001b[0;32m    322\u001b[0m     )\n",
      "File \u001b[1;32mc:\\Users\\Myeong\\anaconda3\\envs\\jin\\lib\\site-packages\\keras\\callbacks.py:340\u001b[0m, in \u001b[0;36mCallbackList._call_batch_end_hook\u001b[1;34m(self, mode, batch, logs)\u001b[0m\n\u001b[0;32m    337\u001b[0m     batch_time \u001b[39m=\u001b[39m time\u001b[39m.\u001b[39mtime() \u001b[39m-\u001b[39m \u001b[39mself\u001b[39m\u001b[39m.\u001b[39m_batch_start_time\n\u001b[0;32m    338\u001b[0m     \u001b[39mself\u001b[39m\u001b[39m.\u001b[39m_batch_times\u001b[39m.\u001b[39mappend(batch_time)\n\u001b[1;32m--> 340\u001b[0m \u001b[39mself\u001b[39;49m\u001b[39m.\u001b[39;49m_call_batch_hook_helper(hook_name, batch, logs)\n\u001b[0;32m    342\u001b[0m \u001b[39mif\u001b[39;00m \u001b[39mlen\u001b[39m(\u001b[39mself\u001b[39m\u001b[39m.\u001b[39m_batch_times) \u001b[39m>\u001b[39m\u001b[39m=\u001b[39m \u001b[39mself\u001b[39m\u001b[39m.\u001b[39m_num_batches_for_timing_check:\n\u001b[0;32m    343\u001b[0m     end_hook_name \u001b[39m=\u001b[39m hook_name\n",
      "File \u001b[1;32mc:\\Users\\Myeong\\anaconda3\\envs\\jin\\lib\\site-packages\\keras\\callbacks.py:388\u001b[0m, in \u001b[0;36mCallbackList._call_batch_hook_helper\u001b[1;34m(self, hook_name, batch, logs)\u001b[0m\n\u001b[0;32m    386\u001b[0m \u001b[39mfor\u001b[39;00m callback \u001b[39min\u001b[39;00m \u001b[39mself\u001b[39m\u001b[39m.\u001b[39mcallbacks:\n\u001b[0;32m    387\u001b[0m     hook \u001b[39m=\u001b[39m \u001b[39mgetattr\u001b[39m(callback, hook_name)\n\u001b[1;32m--> 388\u001b[0m     hook(batch, logs)\n\u001b[0;32m    390\u001b[0m \u001b[39mif\u001b[39;00m \u001b[39mself\u001b[39m\u001b[39m.\u001b[39m_check_timing:\n\u001b[0;32m    391\u001b[0m     \u001b[39mif\u001b[39;00m hook_name \u001b[39mnot\u001b[39;00m \u001b[39min\u001b[39;00m \u001b[39mself\u001b[39m\u001b[39m.\u001b[39m_hook_times:\n",
      "File \u001b[1;32mc:\\Users\\Myeong\\anaconda3\\envs\\jin\\lib\\site-packages\\keras\\callbacks.py:1081\u001b[0m, in \u001b[0;36mProgbarLogger.on_train_batch_end\u001b[1;34m(self, batch, logs)\u001b[0m\n\u001b[0;32m   1080\u001b[0m \u001b[39mdef\u001b[39;00m \u001b[39mon_train_batch_end\u001b[39m(\u001b[39mself\u001b[39m, batch, logs\u001b[39m=\u001b[39m\u001b[39mNone\u001b[39;00m):\n\u001b[1;32m-> 1081\u001b[0m     \u001b[39mself\u001b[39;49m\u001b[39m.\u001b[39;49m_batch_update_progbar(batch, logs)\n",
      "File \u001b[1;32mc:\\Users\\Myeong\\anaconda3\\envs\\jin\\lib\\site-packages\\keras\\callbacks.py:1157\u001b[0m, in \u001b[0;36mProgbarLogger._batch_update_progbar\u001b[1;34m(self, batch, logs)\u001b[0m\n\u001b[0;32m   1153\u001b[0m     \u001b[39mself\u001b[39m\u001b[39m.\u001b[39mseen \u001b[39m+\u001b[39m\u001b[39m=\u001b[39m add_seen\n\u001b[0;32m   1155\u001b[0m \u001b[39mif\u001b[39;00m \u001b[39mself\u001b[39m\u001b[39m.\u001b[39mverbose \u001b[39m==\u001b[39m \u001b[39m1\u001b[39m:\n\u001b[0;32m   1156\u001b[0m     \u001b[39m# Only block async when verbose = 1.\u001b[39;00m\n\u001b[1;32m-> 1157\u001b[0m     logs \u001b[39m=\u001b[39m tf_utils\u001b[39m.\u001b[39;49msync_to_numpy_or_python_type(logs)\n\u001b[0;32m   1158\u001b[0m     \u001b[39mself\u001b[39m\u001b[39m.\u001b[39mprogbar\u001b[39m.\u001b[39mupdate(\u001b[39mself\u001b[39m\u001b[39m.\u001b[39mseen, \u001b[39mlist\u001b[39m(logs\u001b[39m.\u001b[39mitems()), finalize\u001b[39m=\u001b[39m\u001b[39mFalse\u001b[39;00m)\n",
      "File \u001b[1;32mc:\\Users\\Myeong\\anaconda3\\envs\\jin\\lib\\site-packages\\keras\\utils\\tf_utils.py:635\u001b[0m, in \u001b[0;36msync_to_numpy_or_python_type\u001b[1;34m(tensors)\u001b[0m\n\u001b[0;32m    632\u001b[0m         \u001b[39mreturn\u001b[39;00m t\n\u001b[0;32m    633\u001b[0m     \u001b[39mreturn\u001b[39;00m t\u001b[39m.\u001b[39mitem() \u001b[39mif\u001b[39;00m np\u001b[39m.\u001b[39mndim(t) \u001b[39m==\u001b[39m \u001b[39m0\u001b[39m \u001b[39melse\u001b[39;00m t\n\u001b[1;32m--> 635\u001b[0m \u001b[39mreturn\u001b[39;00m tf\u001b[39m.\u001b[39;49mnest\u001b[39m.\u001b[39;49mmap_structure(_to_single_numpy_or_python_type, tensors)\n",
      "File \u001b[1;32mc:\\Users\\Myeong\\anaconda3\\envs\\jin\\lib\\site-packages\\tensorflow\\python\\util\\nest.py:917\u001b[0m, in \u001b[0;36mmap_structure\u001b[1;34m(func, *structure, **kwargs)\u001b[0m\n\u001b[0;32m    913\u001b[0m flat_structure \u001b[39m=\u001b[39m (flatten(s, expand_composites) \u001b[39mfor\u001b[39;00m s \u001b[39min\u001b[39;00m structure)\n\u001b[0;32m    914\u001b[0m entries \u001b[39m=\u001b[39m \u001b[39mzip\u001b[39m(\u001b[39m*\u001b[39mflat_structure)\n\u001b[0;32m    916\u001b[0m \u001b[39mreturn\u001b[39;00m pack_sequence_as(\n\u001b[1;32m--> 917\u001b[0m     structure[\u001b[39m0\u001b[39m], [func(\u001b[39m*\u001b[39mx) \u001b[39mfor\u001b[39;00m x \u001b[39min\u001b[39;00m entries],\n\u001b[0;32m    918\u001b[0m     expand_composites\u001b[39m=\u001b[39mexpand_composites)\n",
      "File \u001b[1;32mc:\\Users\\Myeong\\anaconda3\\envs\\jin\\lib\\site-packages\\tensorflow\\python\\util\\nest.py:917\u001b[0m, in \u001b[0;36m<listcomp>\u001b[1;34m(.0)\u001b[0m\n\u001b[0;32m    913\u001b[0m flat_structure \u001b[39m=\u001b[39m (flatten(s, expand_composites) \u001b[39mfor\u001b[39;00m s \u001b[39min\u001b[39;00m structure)\n\u001b[0;32m    914\u001b[0m entries \u001b[39m=\u001b[39m \u001b[39mzip\u001b[39m(\u001b[39m*\u001b[39mflat_structure)\n\u001b[0;32m    916\u001b[0m \u001b[39mreturn\u001b[39;00m pack_sequence_as(\n\u001b[1;32m--> 917\u001b[0m     structure[\u001b[39m0\u001b[39m], [func(\u001b[39m*\u001b[39;49mx) \u001b[39mfor\u001b[39;00m x \u001b[39min\u001b[39;00m entries],\n\u001b[0;32m    918\u001b[0m     expand_composites\u001b[39m=\u001b[39mexpand_composites)\n",
      "File \u001b[1;32mc:\\Users\\Myeong\\anaconda3\\envs\\jin\\lib\\site-packages\\keras\\utils\\tf_utils.py:628\u001b[0m, in \u001b[0;36msync_to_numpy_or_python_type.<locals>._to_single_numpy_or_python_type\u001b[1;34m(t)\u001b[0m\n\u001b[0;32m    625\u001b[0m \u001b[39mdef\u001b[39;00m \u001b[39m_to_single_numpy_or_python_type\u001b[39m(t):\n\u001b[0;32m    626\u001b[0m     \u001b[39m# Don't turn ragged or sparse tensors to NumPy.\u001b[39;00m\n\u001b[0;32m    627\u001b[0m     \u001b[39mif\u001b[39;00m \u001b[39misinstance\u001b[39m(t, tf\u001b[39m.\u001b[39mTensor):\n\u001b[1;32m--> 628\u001b[0m         t \u001b[39m=\u001b[39m t\u001b[39m.\u001b[39;49mnumpy()\n\u001b[0;32m    629\u001b[0m     \u001b[39m# Strings, ragged and sparse tensors don't have .item(). Return them\u001b[39;00m\n\u001b[0;32m    630\u001b[0m     \u001b[39m# as-is.\u001b[39;00m\n\u001b[0;32m    631\u001b[0m     \u001b[39mif\u001b[39;00m \u001b[39mnot\u001b[39;00m \u001b[39misinstance\u001b[39m(t, (np\u001b[39m.\u001b[39mndarray, np\u001b[39m.\u001b[39mgeneric)):\n",
      "File \u001b[1;32mc:\\Users\\Myeong\\anaconda3\\envs\\jin\\lib\\site-packages\\tensorflow\\python\\framework\\ops.py:1157\u001b[0m, in \u001b[0;36m_EagerTensorBase.numpy\u001b[1;34m(self)\u001b[0m\n\u001b[0;32m   1134\u001b[0m \u001b[39m\"\"\"Copy of the contents of this Tensor into a NumPy array or scalar.\u001b[39;00m\n\u001b[0;32m   1135\u001b[0m \n\u001b[0;32m   1136\u001b[0m \u001b[39mUnlike NumPy arrays, Tensors are immutable, so this method has to copy\u001b[39;00m\n\u001b[1;32m   (...)\u001b[0m\n\u001b[0;32m   1154\u001b[0m \u001b[39m    NumPy dtype.\u001b[39;00m\n\u001b[0;32m   1155\u001b[0m \u001b[39m\"\"\"\u001b[39;00m\n\u001b[0;32m   1156\u001b[0m \u001b[39m# TODO(slebedev): Consider avoiding a copy for non-CPU or remote tensors.\u001b[39;00m\n\u001b[1;32m-> 1157\u001b[0m maybe_arr \u001b[39m=\u001b[39m \u001b[39mself\u001b[39;49m\u001b[39m.\u001b[39;49m_numpy()  \u001b[39m# pylint: disable=protected-access\u001b[39;00m\n\u001b[0;32m   1158\u001b[0m \u001b[39mreturn\u001b[39;00m maybe_arr\u001b[39m.\u001b[39mcopy() \u001b[39mif\u001b[39;00m \u001b[39misinstance\u001b[39m(maybe_arr, np\u001b[39m.\u001b[39mndarray) \u001b[39melse\u001b[39;00m maybe_arr\n",
      "File \u001b[1;32mc:\\Users\\Myeong\\anaconda3\\envs\\jin\\lib\\site-packages\\tensorflow\\python\\framework\\ops.py:1123\u001b[0m, in \u001b[0;36m_EagerTensorBase._numpy\u001b[1;34m(self)\u001b[0m\n\u001b[0;32m   1121\u001b[0m \u001b[39mdef\u001b[39;00m \u001b[39m_numpy\u001b[39m(\u001b[39mself\u001b[39m):\n\u001b[0;32m   1122\u001b[0m   \u001b[39mtry\u001b[39;00m:\n\u001b[1;32m-> 1123\u001b[0m     \u001b[39mreturn\u001b[39;00m \u001b[39mself\u001b[39;49m\u001b[39m.\u001b[39;49m_numpy_internal()\n\u001b[0;32m   1124\u001b[0m   \u001b[39mexcept\u001b[39;00m core\u001b[39m.\u001b[39m_NotOkStatusException \u001b[39mas\u001b[39;00m e:  \u001b[39m# pylint: disable=protected-access\u001b[39;00m\n\u001b[0;32m   1125\u001b[0m     \u001b[39mraise\u001b[39;00m core\u001b[39m.\u001b[39m_status_to_exception(e) \u001b[39mfrom\u001b[39;00m \u001b[39mNone\u001b[39m\n",
      "\u001b[1;31mKeyboardInterrupt\u001b[0m: "
     ]
    }
   ],
   "source": [
    "\n",
    "model.fit(x = [encoder_input_train, decoder_input_train],\n",
    "          y = decoder_output_train,\n",
    "          validation_data = ([encoder_input_test, decoder_input_test], decoder_output_test),\n",
    "          batch_size=64,\n",
    "          epochs=10,\n",
    "          )"
   ]
  },
  {
   "cell_type": "code",
   "execution_count": 11,
   "metadata": {},
   "outputs": [],
   "source": [
    "# 번역 모델 구현\n",
    "encoder_model = Model(encoder_inputs, encoder_states)\n",
    "\n",
    "decoder_state_input_h = Input(shape=(hidden_units,))\n",
    "decoder_state_input_c = Input(shape=(hidden_units,))\n",
    "decoder_states_inputs = [decoder_state_input_h, decoder_state_input_c]\n",
    "\n",
    "decoder_outputs2, state_h2, state_c2 = decoder_lstm(dec_emb_layer, initial_state=decoder_states_inputs)\n",
    "decoder_states2 = [state_h2, state_c2]\n",
    "\n",
    "decoder_outputs2 = decoder_dense(decoder_outputs2)\n",
    "\n",
    "decoder_model = Model(\n",
    "    [decoder_inputs] + decoder_states_inputs,\n",
    "    [decoder_outputs2] + decoder_states2\n",
    ")"
   ]
  },
  {
   "cell_type": "code",
   "execution_count": 12,
   "metadata": {},
   "outputs": [],
   "source": [
    "sp2idx = sp_tokenizer.word_index\n",
    "en2idx = en_tokenizer.word_index\n",
    "idx2sp = sp_tokenizer.index_word\n",
    "idx2en = en_tokenizer.index_word\n",
    "\n",
    "def decode_sequence(input_seq):\n",
    "    states_value = encoder_model.predict(input_seq, verbose=0)\n",
    "\n",
    "    target_seq = np.zeros((1,1))\n",
    "    target_seq[0,0] = en2idx['<start>']\n",
    "\n",
    "    stop_condition = False\n",
    "    decoded_sentence = ''\n",
    "    decoded_len = 1\n",
    "    \n",
    "    # stop_condition=True가 될 때까지 반복\n",
    "    # 배치 사이즈는 1로 가정\n",
    "    while not stop_condition:\n",
    "        output_tokens, h, c = decoder_model.predict([target_seq]+states_value, verbose=0)\n",
    "\n",
    "        # 예측 결과를 단어로 변환\n",
    "        sampled_token_index = np.argmax(output_tokens[0, -1, :])\n",
    "        sampled_char = idx2en[sampled_token_index]\n",
    "\n",
    "        # <end> 토큰에 도달하거나 정해진 길이를 넘으면 중단\n",
    "        if (sampled_char == '<end>' or decoded_len > max_target_len):\n",
    "            break\n",
    "\n",
    "        # 현재 시점 예측 단어 문장에 추가\n",
    "        decoded_sentence = decoded_sentence + ' ' + sampled_char\n",
    "        decoded_len += 1\n",
    "\n",
    "        \n",
    "        # 현재 시점의 예측 결과를 다음 시점의 입력으로 사용하기 위해 저장\n",
    "        target_seq = np.zeros((1,1))\n",
    "        target_seq[0,0] = sampled_token_index\n",
    "\n",
    "        states_value = [h, c]\n",
    "    \n",
    "    return decoded_sentence"
   ]
  },
  {
   "cell_type": "code",
   "execution_count": 13,
   "metadata": {},
   "outputs": [],
   "source": [
    "# 원문의 정수 시퀀스를 텍스트로 변환\n",
    "def seq_to_src(input_seq):\n",
    "    sentence = ''\n",
    "    for encoded_word in input_seq:\n",
    "        if encoded_word != 0:\n",
    "            sentence = sentence + idx2sp[encoded_word] + ' '\n",
    "    return sentence\n",
    "\n",
    "# 번역문의 정수 시퀀스를 텍스트로 변환\n",
    "def seq_to_tar(input_seq):\n",
    "    sentence = ''\n",
    "    for encoded_word in input_seq:\n",
    "        if encoded_word != 0 and encoded_word != en2idx['<start>'] and encoded_word != en2idx['<end>']:\n",
    "            sentence = sentence + idx2en[encoded_word] + ' '\n",
    "    return sentence"
   ]
  },
  {
   "cell_type": "code",
   "execution_count": 14,
   "metadata": {},
   "outputs": [
    {
     "name": "stdout",
     "output_type": "stream",
     "text": [
      "입력 문장 :  <start> tom siempre se esta quejando de su trabajo . <end> \n",
      "정답 문장 :  tom is always complaining about his job . \n",
      "번역 문장 :  tom has a lot of problems with mary .\n",
      "--------------------------------------------------\n",
      "입력 문장 :  <start> la mama se quedo en el coche mientras papa iba de compras . <end> \n",
      "정답 문장 :  mom remained in the car while dad shopped . \n",
      "번역 문장 :  the old man was seated on the bed reading magic .\n",
      "--------------------------------------------------\n",
      "입력 문장 :  <start> por lo general , vale la pena jugar el juego de la vida . <end> \n",
      "정답 문장 :  as a rule , the game of life is worth playing . \n",
      "번역 문장 :  in the beginning god created the heaven and the earth .\n",
      "--------------------------------------------------\n",
      "입력 문장 :  <start> para ser sincero , no me gusta su forma de pensar . <end> \n",
      "정답 문장 :  to tell the truth , i don t like his way of thinking . \n",
      "번역 문장 :  it s not good to force you to help us with her homework .\n",
      "--------------------------------------------------\n",
      "입력 문장 :  <start> la explosion fue tan fuerte que el techo salio volando . <end> \n",
      "정답 문장 :  it was such a powerful explosion that the roof was blown off . \n",
      "번역 문장 :  the doctor told me that i was not the one who was born .\n",
      "--------------------------------------------------\n"
     ]
    }
   ],
   "source": [
    "for seq_index in [1000, 5000, 10000, 20000, 25000]:\n",
    "    input_seq = encoder_input_train[seq_index: seq_index+1]\n",
    "    decoded_sentence = decode_sequence(input_seq)\n",
    "\n",
    "    print('입력 문장 : ', seq_to_src(encoder_input_train[seq_index]))\n",
    "    print('정답 문장 : ', seq_to_tar(decoder_input_train[seq_index]))\n",
    "    print('번역 문장 : ', decoded_sentence[1:])\n",
    "    print('-'*50)"
   ]
  },
  {
   "attachments": {},
   "cell_type": "markdown",
   "metadata": {},
   "source": [
    "# 2. Seq2Seq with Attention"
   ]
  },
  {
   "cell_type": "code",
   "execution_count": 1,
   "metadata": {},
   "outputs": [],
   "source": [
    "import tensorflow as tf\n",
    "import matplotlib.pyplot as plt\n",
    "from tensorflow.keras.layers import Input, LSTM, Embedding, Dense\n",
    "from tensorflow.keras.models import Model\n",
    "\n",
    "import numpy as np\n",
    "import pandas as pd\n",
    "import time\n",
    "import re\n",
    "from unidecode import unidecode"
   ]
  },
  {
   "cell_type": "code",
   "execution_count": 2,
   "metadata": {},
   "outputs": [
    {
     "data": {
      "text/html": [
       "<div>\n",
       "<style scoped>\n",
       "    .dataframe tbody tr th:only-of-type {\n",
       "        vertical-align: middle;\n",
       "    }\n",
       "\n",
       "    .dataframe tbody tr th {\n",
       "        vertical-align: top;\n",
       "    }\n",
       "\n",
       "    .dataframe thead th {\n",
       "        text-align: right;\n",
       "    }\n",
       "</style>\n",
       "<table border=\"1\" class=\"dataframe\">\n",
       "  <thead>\n",
       "    <tr style=\"text-align: right;\">\n",
       "      <th></th>\n",
       "      <th>en</th>\n",
       "      <th>sp</th>\n",
       "      <th>cc</th>\n",
       "    </tr>\n",
       "  </thead>\n",
       "  <tbody>\n",
       "    <tr>\n",
       "      <th>0</th>\n",
       "      <td>Go.</td>\n",
       "      <td>Ve.</td>\n",
       "      <td>CC-BY 2.0 (France) Attribution: tatoeba.org #2...</td>\n",
       "    </tr>\n",
       "    <tr>\n",
       "      <th>1</th>\n",
       "      <td>Go.</td>\n",
       "      <td>Vete.</td>\n",
       "      <td>CC-BY 2.0 (France) Attribution: tatoeba.org #2...</td>\n",
       "    </tr>\n",
       "    <tr>\n",
       "      <th>2</th>\n",
       "      <td>Go.</td>\n",
       "      <td>Vaya.</td>\n",
       "      <td>CC-BY 2.0 (France) Attribution: tatoeba.org #2...</td>\n",
       "    </tr>\n",
       "    <tr>\n",
       "      <th>3</th>\n",
       "      <td>Go.</td>\n",
       "      <td>Váyase.</td>\n",
       "      <td>CC-BY 2.0 (France) Attribution: tatoeba.org #2...</td>\n",
       "    </tr>\n",
       "    <tr>\n",
       "      <th>4</th>\n",
       "      <td>Hi.</td>\n",
       "      <td>Hola.</td>\n",
       "      <td>CC-BY 2.0 (France) Attribution: tatoeba.org #5...</td>\n",
       "    </tr>\n",
       "    <tr>\n",
       "      <th>...</th>\n",
       "      <td>...</td>\n",
       "      <td>...</td>\n",
       "      <td>...</td>\n",
       "    </tr>\n",
       "    <tr>\n",
       "      <th>139008</th>\n",
       "      <td>A carbon footprint is the amount of carbon dio...</td>\n",
       "      <td>Una huella de carbono es la cantidad de contam...</td>\n",
       "      <td>CC-BY 2.0 (France) Attribution: tatoeba.org #1...</td>\n",
       "    </tr>\n",
       "    <tr>\n",
       "      <th>139009</th>\n",
       "      <td>Since there are usually multiple websites on a...</td>\n",
       "      <td>Como suele haber varias páginas web sobre cual...</td>\n",
       "      <td>CC-BY 2.0 (France) Attribution: tatoeba.org #9...</td>\n",
       "    </tr>\n",
       "    <tr>\n",
       "      <th>139010</th>\n",
       "      <td>If you want to sound like a native speaker, yo...</td>\n",
       "      <td>Si quieres sonar como un hablante nativo, debe...</td>\n",
       "      <td>CC-BY 2.0 (France) Attribution: tatoeba.org #9...</td>\n",
       "    </tr>\n",
       "    <tr>\n",
       "      <th>139011</th>\n",
       "      <td>It may be impossible to get a completely error...</td>\n",
       "      <td>Puede que sea imposible obtener un corpus comp...</td>\n",
       "      <td>CC-BY 2.0 (France) Attribution: tatoeba.org #2...</td>\n",
       "    </tr>\n",
       "    <tr>\n",
       "      <th>139012</th>\n",
       "      <td>One day, I woke up to find that God had put ha...</td>\n",
       "      <td>Un día, me desperté y vi que Dios me había pue...</td>\n",
       "      <td>CC-BY 2.0 (France) Attribution: tatoeba.org #1...</td>\n",
       "    </tr>\n",
       "  </tbody>\n",
       "</table>\n",
       "<p>139013 rows × 3 columns</p>\n",
       "</div>"
      ],
      "text/plain": [
       "                                                       en  \\\n",
       "0                                                     Go.   \n",
       "1                                                     Go.   \n",
       "2                                                     Go.   \n",
       "3                                                     Go.   \n",
       "4                                                     Hi.   \n",
       "...                                                   ...   \n",
       "139008  A carbon footprint is the amount of carbon dio...   \n",
       "139009  Since there are usually multiple websites on a...   \n",
       "139010  If you want to sound like a native speaker, yo...   \n",
       "139011  It may be impossible to get a completely error...   \n",
       "139012  One day, I woke up to find that God had put ha...   \n",
       "\n",
       "                                                       sp  \\\n",
       "0                                                     Ve.   \n",
       "1                                                   Vete.   \n",
       "2                                                   Vaya.   \n",
       "3                                                 Váyase.   \n",
       "4                                                   Hola.   \n",
       "...                                                   ...   \n",
       "139008  Una huella de carbono es la cantidad de contam...   \n",
       "139009  Como suele haber varias páginas web sobre cual...   \n",
       "139010  Si quieres sonar como un hablante nativo, debe...   \n",
       "139011  Puede que sea imposible obtener un corpus comp...   \n",
       "139012  Un día, me desperté y vi que Dios me había pue...   \n",
       "\n",
       "                                                       cc  \n",
       "0       CC-BY 2.0 (France) Attribution: tatoeba.org #2...  \n",
       "1       CC-BY 2.0 (France) Attribution: tatoeba.org #2...  \n",
       "2       CC-BY 2.0 (France) Attribution: tatoeba.org #2...  \n",
       "3       CC-BY 2.0 (France) Attribution: tatoeba.org #2...  \n",
       "4       CC-BY 2.0 (France) Attribution: tatoeba.org #5...  \n",
       "...                                                   ...  \n",
       "139008  CC-BY 2.0 (France) Attribution: tatoeba.org #1...  \n",
       "139009  CC-BY 2.0 (France) Attribution: tatoeba.org #9...  \n",
       "139010  CC-BY 2.0 (France) Attribution: tatoeba.org #9...  \n",
       "139011  CC-BY 2.0 (France) Attribution: tatoeba.org #2...  \n",
       "139012  CC-BY 2.0 (France) Attribution: tatoeba.org #1...  \n",
       "\n",
       "[139013 rows x 3 columns]"
      ]
     },
     "execution_count": 2,
     "metadata": {},
     "output_type": "execute_result"
    }
   ],
   "source": [
    "file_path = 'C:/Users/Myeong/dding/data/nmt_attention/spa-eng/spa.txt'\n",
    "\n",
    "all_data = pd.read_csv(file_path, names=['en', 'sp', 'cc'], sep='\\t')\n",
    "all_data"
   ]
  },
  {
   "cell_type": "code",
   "execution_count": 3,
   "metadata": {},
   "outputs": [
    {
     "data": {
      "text/html": [
       "<div>\n",
       "<style scoped>\n",
       "    .dataframe tbody tr th:only-of-type {\n",
       "        vertical-align: middle;\n",
       "    }\n",
       "\n",
       "    .dataframe tbody tr th {\n",
       "        vertical-align: top;\n",
       "    }\n",
       "\n",
       "    .dataframe thead th {\n",
       "        text-align: right;\n",
       "    }\n",
       "</style>\n",
       "<table border=\"1\" class=\"dataframe\">\n",
       "  <thead>\n",
       "    <tr style=\"text-align: right;\">\n",
       "      <th></th>\n",
       "      <th>en</th>\n",
       "      <th>sp</th>\n",
       "      <th>pre_en</th>\n",
       "      <th>pre_sp</th>\n",
       "    </tr>\n",
       "  </thead>\n",
       "  <tbody>\n",
       "    <tr>\n",
       "      <th>110000</th>\n",
       "      <td>I've already finished reading this book.</td>\n",
       "      <td>Ya me he acabado este libro.</td>\n",
       "      <td>&lt;start&gt; i ve already finished reading this boo...</td>\n",
       "      <td>&lt;start&gt; ya me he acabado este libro . &lt;end&gt;</td>\n",
       "    </tr>\n",
       "    <tr>\n",
       "      <th>110001</th>\n",
       "      <td>I've always thought you were a Canadian.</td>\n",
       "      <td>Siempre he pensado que eras canadiense.</td>\n",
       "      <td>&lt;start&gt; i ve always thought you were a canadia...</td>\n",
       "      <td>&lt;start&gt; siempre he pensado que eras canadiense...</td>\n",
       "    </tr>\n",
       "    <tr>\n",
       "      <th>110002</th>\n",
       "      <td>I've always wanted to learn how to swim.</td>\n",
       "      <td>Siempre he querido aprender a nadar.</td>\n",
       "      <td>&lt;start&gt; i ve always wanted to learn how to swi...</td>\n",
       "      <td>&lt;start&gt; siempre he querido aprender a nadar . ...</td>\n",
       "    </tr>\n",
       "    <tr>\n",
       "      <th>110003</th>\n",
       "      <td>I've always wanted to play the trombone.</td>\n",
       "      <td>Siempre he querido tocar el trombón.</td>\n",
       "      <td>&lt;start&gt; i ve always wanted to play the trombon...</td>\n",
       "      <td>&lt;start&gt; siempre he querido tocar el trombon . ...</td>\n",
       "    </tr>\n",
       "    <tr>\n",
       "      <th>110004</th>\n",
       "      <td>I've been able to read since I was five.</td>\n",
       "      <td>He podido leer desde que tenía cinco años.</td>\n",
       "      <td>&lt;start&gt; i ve been able to read since i was fiv...</td>\n",
       "      <td>&lt;start&gt; he podido leer desde que tenia cinco a...</td>\n",
       "    </tr>\n",
       "    <tr>\n",
       "      <th>...</th>\n",
       "      <td>...</td>\n",
       "      <td>...</td>\n",
       "      <td>...</td>\n",
       "      <td>...</td>\n",
       "    </tr>\n",
       "    <tr>\n",
       "      <th>139008</th>\n",
       "      <td>A carbon footprint is the amount of carbon dio...</td>\n",
       "      <td>Una huella de carbono es la cantidad de contam...</td>\n",
       "      <td>&lt;start&gt; a carbon footprint is the amount of ca...</td>\n",
       "      <td>&lt;start&gt; una huella de carbono es la cantidad d...</td>\n",
       "    </tr>\n",
       "    <tr>\n",
       "      <th>139009</th>\n",
       "      <td>Since there are usually multiple websites on a...</td>\n",
       "      <td>Como suele haber varias páginas web sobre cual...</td>\n",
       "      <td>&lt;start&gt; since there are usually multiple websi...</td>\n",
       "      <td>&lt;start&gt; como suele haber varias paginas web so...</td>\n",
       "    </tr>\n",
       "    <tr>\n",
       "      <th>139010</th>\n",
       "      <td>If you want to sound like a native speaker, yo...</td>\n",
       "      <td>Si quieres sonar como un hablante nativo, debe...</td>\n",
       "      <td>&lt;start&gt; if you want to sound like a native spe...</td>\n",
       "      <td>&lt;start&gt; si quieres sonar como un hablante nati...</td>\n",
       "    </tr>\n",
       "    <tr>\n",
       "      <th>139011</th>\n",
       "      <td>It may be impossible to get a completely error...</td>\n",
       "      <td>Puede que sea imposible obtener un corpus comp...</td>\n",
       "      <td>&lt;start&gt; it may be impossible to get a complete...</td>\n",
       "      <td>&lt;start&gt; puede que sea imposible obtener un cor...</td>\n",
       "    </tr>\n",
       "    <tr>\n",
       "      <th>139012</th>\n",
       "      <td>One day, I woke up to find that God had put ha...</td>\n",
       "      <td>Un día, me desperté y vi que Dios me había pue...</td>\n",
       "      <td>&lt;start&gt; one day , i woke up to find that god h...</td>\n",
       "      <td>&lt;start&gt; un dia , me desperte y vi que dios me ...</td>\n",
       "    </tr>\n",
       "  </tbody>\n",
       "</table>\n",
       "<p>29013 rows × 4 columns</p>\n",
       "</div>"
      ],
      "text/plain": [
       "                                                       en  \\\n",
       "110000           I've already finished reading this book.   \n",
       "110001           I've always thought you were a Canadian.   \n",
       "110002           I've always wanted to learn how to swim.   \n",
       "110003           I've always wanted to play the trombone.   \n",
       "110004           I've been able to read since I was five.   \n",
       "...                                                   ...   \n",
       "139008  A carbon footprint is the amount of carbon dio...   \n",
       "139009  Since there are usually multiple websites on a...   \n",
       "139010  If you want to sound like a native speaker, yo...   \n",
       "139011  It may be impossible to get a completely error...   \n",
       "139012  One day, I woke up to find that God had put ha...   \n",
       "\n",
       "                                                       sp  \\\n",
       "110000                       Ya me he acabado este libro.   \n",
       "110001            Siempre he pensado que eras canadiense.   \n",
       "110002               Siempre he querido aprender a nadar.   \n",
       "110003               Siempre he querido tocar el trombón.   \n",
       "110004         He podido leer desde que tenía cinco años.   \n",
       "...                                                   ...   \n",
       "139008  Una huella de carbono es la cantidad de contam...   \n",
       "139009  Como suele haber varias páginas web sobre cual...   \n",
       "139010  Si quieres sonar como un hablante nativo, debe...   \n",
       "139011  Puede que sea imposible obtener un corpus comp...   \n",
       "139012  Un día, me desperté y vi que Dios me había pue...   \n",
       "\n",
       "                                                   pre_en  \\\n",
       "110000  <start> i ve already finished reading this boo...   \n",
       "110001  <start> i ve always thought you were a canadia...   \n",
       "110002  <start> i ve always wanted to learn how to swi...   \n",
       "110003  <start> i ve always wanted to play the trombon...   \n",
       "110004  <start> i ve been able to read since i was fiv...   \n",
       "...                                                   ...   \n",
       "139008  <start> a carbon footprint is the amount of ca...   \n",
       "139009  <start> since there are usually multiple websi...   \n",
       "139010  <start> if you want to sound like a native spe...   \n",
       "139011  <start> it may be impossible to get a complete...   \n",
       "139012  <start> one day , i woke up to find that god h...   \n",
       "\n",
       "                                                   pre_sp  \n",
       "110000        <start> ya me he acabado este libro . <end>  \n",
       "110001  <start> siempre he pensado que eras canadiense...  \n",
       "110002  <start> siempre he querido aprender a nadar . ...  \n",
       "110003  <start> siempre he querido tocar el trombon . ...  \n",
       "110004  <start> he podido leer desde que tenia cinco a...  \n",
       "...                                                   ...  \n",
       "139008  <start> una huella de carbono es la cantidad d...  \n",
       "139009  <start> como suele haber varias paginas web so...  \n",
       "139010  <start> si quieres sonar como un hablante nati...  \n",
       "139011  <start> puede que sea imposible obtener un cor...  \n",
       "139012  <start> un dia , me desperte y vi que dios me ...  \n",
       "\n",
       "[29013 rows x 4 columns]"
      ]
     },
     "execution_count": 3,
     "metadata": {},
     "output_type": "execute_result"
    }
   ],
   "source": [
    "def preprocess_sentence(s):\n",
    "    s = unidecode(s)\n",
    "    s = s.lower().strip()\n",
    "    s = re.sub(r\"([?.!,¿])\", r\" \\1 \", s)\n",
    "    s = re.sub(r'[\" \"]+', \" \", s)\n",
    "    s = re.sub(r\"[^a-zA-Z?.!,¿]+\", \" \", s)\n",
    "    s = s.strip()\n",
    "    s = '<start> ' + s + ' <end>'\n",
    "    return s\n",
    "\n",
    "data = all_data[['en', 'sp']][110000:]\n",
    "data['pre_en'] = data['en'].apply(preprocess_sentence)\n",
    "data['pre_sp'] = data['sp'].apply(preprocess_sentence)\n",
    "data"
   ]
  },
  {
   "cell_type": "code",
   "execution_count": 4,
   "metadata": {},
   "outputs": [],
   "source": [
    "def tokenize(lang):\n",
    "    tokenizer = tf.keras.preprocessing.text.Tokenizer(filters='')\n",
    "    tokenizer.fit_on_texts(lang)\n",
    "\n",
    "    tensor = tokenizer.texts_to_sequences(lang)\n",
    "    tensor = tf.keras.preprocessing.sequence.pad_sequences(tensor, padding='post')\n",
    "    return tensor, tokenizer\n",
    "\n",
    "def load_dataset(data):\n",
    "    input_sentence = data['pre_sp']\n",
    "    output_sentence = data['pre_en']\n",
    "\n",
    "    input_tensor, input_tokenizer = tokenize(input_sentence)\n",
    "    output_tensor, output_tokenizer = tokenize(output_sentence)\n",
    "\n",
    "    return input_tensor, input_tokenizer, output_tensor, output_tokenizer\n",
    "\n",
    "input_tensor, input_tokenizer, target_tensor, target_tokenizer = load_dataset(data)"
   ]
  },
  {
   "cell_type": "code",
   "execution_count": 5,
   "metadata": {},
   "outputs": [
    {
     "name": "stdout",
     "output_type": "stream",
     "text": [
      "80 83\n"
     ]
    }
   ],
   "source": [
    "max_input_len, max_target_len = input_tensor.shape[1], target_tensor.shape[1]\n",
    "print(max_input_len ,max_target_len)"
   ]
  },
  {
   "cell_type": "code",
   "execution_count": 6,
   "metadata": {},
   "outputs": [
    {
     "data": {
      "text/plain": [
       "(29013, 83)"
      ]
     },
     "execution_count": 6,
     "metadata": {},
     "output_type": "execute_result"
    }
   ],
   "source": [
    "target_tensor.shape"
   ]
  },
  {
   "cell_type": "code",
   "execution_count": 7,
   "metadata": {},
   "outputs": [
    {
     "name": "stdout",
     "output_type": "stream",
     "text": [
      "(23210, 80)\n",
      "(23210, 83)\n",
      "(5803, 80)\n",
      "(5803, 83)\n"
     ]
    }
   ],
   "source": [
    "from sklearn.model_selection import train_test_split\n",
    "\n",
    "# 훈련 인코더 데이터, 훈련 디코더 데이터, 테스트 인코더 데이터, 테스트 디코더 데이터\n",
    "train_x, train_y, target_x, target_y = train_test_split(input_tensor, target_tensor, test_size=0.2)\n",
    "print(train_x.shape)\n",
    "print(target_x.shape)\n",
    "print(train_y.shape)\n",
    "print(target_y.shape)"
   ]
  },
  {
   "cell_type": "code",
   "execution_count": 8,
   "metadata": {},
   "outputs": [],
   "source": [
    "en2idx = input_tokenizer.word_index\n",
    "idx2en = input_tokenizer.index_word\n",
    "\n",
    "sp2idx = target_tokenizer.word_index\n",
    "idx2sp = target_tokenizer.index_word\n",
    "\n",
    "# tf.data 데이터셋 생성하기\n",
    "BUFFER_SIZE = len(train_x)\n",
    "BATCH_SIZE = 64\n",
    "steps_per_epochs = len(train_x) // BATCH_SIZE\n",
    "embedding_dim = 256\n",
    "units = 1024\n",
    "\n",
    "input_vocab_size = len(input_tokenizer.word_index) + 1\n",
    "target_vocab_size = len(target_tokenizer.word_index) + 1\n",
    "\n",
    "dataset = tf.data.Dataset.from_tensor_slices((train_x, target_x)).shuffle(BUFFER_SIZE)\n",
    "dataset = dataset.batch(BATCH_SIZE, drop_remainder=True)"
   ]
  },
  {
   "cell_type": "code",
   "execution_count": 9,
   "metadata": {},
   "outputs": [
    {
     "data": {
      "text/plain": [
       "(TensorShape([64, 80]), TensorShape([64, 83]))"
      ]
     },
     "execution_count": 9,
     "metadata": {},
     "output_type": "execute_result"
    }
   ],
   "source": [
    "example_input_batch, example_target_batch = next(iter(dataset))\n",
    "example_input_batch.shape, example_target_batch.shape"
   ]
  },
  {
   "cell_type": "code",
   "execution_count": 10,
   "metadata": {},
   "outputs": [],
   "source": [
    "class Encoder(tf.keras.Model):\n",
    "    def __init__(self, vocab_size, embedding_dim, enc_units, batch_size):\n",
    "        super(Encoder, self).__init__()\n",
    "        self.batch_size = batch_size\n",
    "        self.enc_units = enc_units\n",
    "        self.embedding = tf.keras.layers.Embedding(vocab_size, embedding_dim)\n",
    "        self.gru = tf.keras.layers.GRU(self.enc_units,\n",
    "                                       return_sequences=True,\n",
    "                                       return_state = True,\n",
    "                                       recurrent_initializer = 'glorot_uniform')\n",
    "    \n",
    "    def call(self, x, hidden):\n",
    "        x = self.embedding(x)\n",
    "        output, state = self.gru(x, initial_state=hidden)\n",
    "        return output, state\n",
    "    \n",
    "    def initialize_hidden_state(self):\n",
    "        return tf.zeros((self.batch_size, self.enc_units))\n",
    "    "
   ]
  },
  {
   "attachments": {},
   "cell_type": "markdown",
   "metadata": {},
   "source": [
    "- query : 영향을 받는 단어를 나타내는 변수\n",
    "- key : 영향을 주는 단어를 나타내는 변수\n",
    "- value : 그 영향에 대한 가중치"
   ]
  },
  {
   "cell_type": "code",
   "execution_count": 11,
   "metadata": {},
   "outputs": [
    {
     "data": {
      "text/plain": [
       "[name: \"/device:CPU:0\"\n",
       " device_type: \"CPU\"\n",
       " memory_limit: 268435456\n",
       " locality {\n",
       " }\n",
       " incarnation: 1628536276821275339\n",
       " xla_global_id: -1,\n",
       " name: \"/device:GPU:0\"\n",
       " device_type: \"GPU\"\n",
       " memory_limit: 9894363136\n",
       " locality {\n",
       "   bus_id: 1\n",
       "   links {\n",
       "   }\n",
       " }\n",
       " incarnation: 9285791763504133768\n",
       " physical_device_desc: \"device: 0, name: NVIDIA GeForce RTX 3080 Ti, pci bus id: 0000:01:00.0, compute capability: 8.6\"\n",
       " xla_global_id: 416903419]"
      ]
     },
     "execution_count": 11,
     "metadata": {},
     "output_type": "execute_result"
    }
   ],
   "source": [
    "from tensorflow.python.client import device_lib\n",
    "device_lib.list_local_devices()"
   ]
  },
  {
   "cell_type": "code",
   "execution_count": 12,
   "metadata": {},
   "outputs": [],
   "source": [
    "# BahdanauAttention\n",
    "class BahdanauAttention(tf.keras.layers.Layer):\n",
    "    def __init__(self, units):\n",
    "        super(BahdanauAttention, self).__init__()\n",
    "        self.w1 = tf.keras.layers.Dense(units)\n",
    "        self.w2 = tf.keras.layers.Dense(units)\n",
    "        self.v = tf.keras.layers.Dense(1)\n",
    "\n",
    "    def call(self, query, values):\n",
    "        # query hidden state shape : (batch_size, hidden_size)\n",
    "        # query_with_time_axis shape : (batch_size, 1, hidden_size)\n",
    "        # values shape : (batch_size, max_len, hidden_size)\n",
    "        query_with_time_axis = tf.expand_dims(query, 1)\n",
    "\n",
    "        # score shape : (batch_size, max_length, 1)\n",
    "        # score를 self.V에 적용하기 때문에 마지막 축에 1을 얻는다.\n",
    "        # self.V에 적용하기 전에 텐서는 (batch_size, max_length, units) 쌍으로 이루어짐.\n",
    "        score = self.v(tf.nn.tanh(\n",
    "            self.w1(query_with_time_axis) + self.w2(values)\n",
    "        ))\n",
    "\n",
    "        # attention_weights shape : (batch_size, max_length, 1)\n",
    "        attention_weights = tf.nn.softmax(score, axis=1)\n",
    "\n",
    "        # 덧셈 이후 context vector shape : (batch_size, hidden_size)\n",
    "        context_vector = attention_weights * values\n",
    "        context_vector = tf.reduce_sum(context_vector, axis=1)\n",
    "\n",
    "        return context_vector, attention_weights"
   ]
  },
  {
   "cell_type": "code",
   "execution_count": 13,
   "metadata": {},
   "outputs": [],
   "source": [
    "class Decoder(tf.keras.Model):\n",
    "    def __init__(self, vocab_size, embedding_dim, dec_units, batch_size):\n",
    "        super(Decoder, self).__init__()\n",
    "        self.batch_size = batch_size\n",
    "        self.dec_units = dec_units\n",
    "        self.embedding = tf.keras.layers.Embedding(vocab_size, embedding_dim)\n",
    "        self.gru = tf.keras.layers.GRU(self.dec_units,\n",
    "                                       return_sequences=True,\n",
    "                                       return_state=True,\n",
    "                                       recurrent_initializer='glorot_uniform')\n",
    "        self.fc = tf.keras.layers.Dense(vocab_size)\n",
    "\n",
    "        # use attention\n",
    "        self.attention = BahdanauAttention(self.dec_units)\n",
    "    \n",
    "    def call(self, x, hidden, enc_output):\n",
    "        # enc_output shape : (batch_size, max_length, hidden_size)\n",
    "        context_vector, attention_weights = self.attention(hidden, enc_output)\n",
    "\n",
    "        # 임베딩 후 x shape (batch_size, 1, embedding_dim)\n",
    "        x = self.embedding(x)\n",
    "\n",
    "        # context vector와 embedding 결과를 결합한 x shape : (batch_size, 1, embedding_dim + hidden_size)\n",
    "        x = tf.concat([tf.expand_dims(context_vector, 1), x], axis=-1)\n",
    "\n",
    "        # x를 GRU에 전달\n",
    "        output, state = self.gru(x)\n",
    "\n",
    "        # output shape : (batch_size, 1, hidden_size)\n",
    "        output = tf.reshape(output, (-1, output.shape[2]))\n",
    "\n",
    "        # output shape : (batch_size, vocab)\n",
    "        x = self.fc(output)\n",
    "\n",
    "        return x, state, attention_weights\n",
    "    "
   ]
  },
  {
   "cell_type": "code",
   "execution_count": 14,
   "metadata": {},
   "outputs": [],
   "source": [
    "optimizer = tf.keras.optimizers.Adam()\n",
    "loss_object = tf.keras.losses.SparseCategoricalCrossentropy(from_logits=True, reduction='none')\n",
    "\n",
    "def loss_function(real, pred):\n",
    "    # tf.math.equal : real의 값이 0이면 True, 아니면 False\n",
    "    # tf.math.logical_not : True는 False로, False는 True로 바꿈\n",
    "    mask = tf.math.logical_not(tf.math.equal(real, 0))\n",
    "    loss_ = loss_object(real, pred)\n",
    "\n",
    "    mask = tf.cast(mask, dtype=loss_.dtype)\n",
    "    loss_ *= mask\n",
    "    return tf.reduce_mean(loss_)"
   ]
  },
  {
   "attachments": {},
   "cell_type": "markdown",
   "metadata": {},
   "source": [
    "## 훈련 과정\n",
    "1. encoder input을 Encoder에 입력으로 넣고 encoder output, encoder hidden state를 얻는다.\n",
    "\n",
    "2. encoder output, encoder hidden state를 Decoder로 전달한다.\n",
    "\n",
    "3. 전달 받은 값을 통해 Decoder는 예측 값과 decoder hidden state를 반환한다.\n",
    "\n",
    "4. decoder hidden state가 모델에 전달되고 loss를 계산한다.\n",
    "\n",
    "5. decoder의 다음 입력을 위해 교사 강요(teacher forcing)를 사용한다.\n",
    "\n",
    "6. 최적화를 진행한다."
   ]
  },
  {
   "cell_type": "code",
   "execution_count": 15,
   "metadata": {},
   "outputs": [],
   "source": [
    "encoder = Encoder(input_vocab_size, embedding_dim, units, BATCH_SIZE)\n",
    "decoder = Decoder(target_vocab_size, embedding_dim, units, BATCH_SIZE)"
   ]
  },
  {
   "cell_type": "code",
   "execution_count": 16,
   "metadata": {},
   "outputs": [],
   "source": [
    "@tf.function\n",
    "def train_step(input, target, enc_hidden):\n",
    "    loss = 0\n",
    "\n",
    "    with tf.GradientTape() as tape:\n",
    "        enc_output, enc_hidden = encoder(input, enc_hidden)\n",
    "        dec_hidden = enc_hidden\n",
    "        dec_input = tf.expand_dims([target_tokenizer.word_index['<start>']]*BATCH_SIZE, 1)\n",
    "\n",
    "        # teacher forcing\n",
    "        for t in range(1, target.shape[1]):\n",
    "            # enc_output을 디코더에 전달\n",
    "            predictions, dec_hidden, _ = decoder(dec_input, dec_hidden, enc_output)\n",
    "\n",
    "            loss += loss_function(target[:, t], predictions)\n",
    "\n",
    "            # teacher forcing\n",
    "            dec_input = tf.expand_dims(target[:, t], 1)\n",
    "    \n",
    "    batch_loss = (loss / int(target.shape[1]))\n",
    "    variables = encoder.trainable_variables + decoder.trainable_variables\n",
    "    gradients = tape.gradient(loss, variables)\n",
    "    optimizer.apply_gradients(zip(gradients, variables))\n",
    "\n",
    "    return batch_loss"
   ]
  },
  {
   "cell_type": "code",
   "execution_count": 17,
   "metadata": {},
   "outputs": [
    {
     "name": "stderr",
     "output_type": "stream",
     "text": [
      "  0%|          | 0/10 [00:00<?, ?it/s]"
     ]
    },
    {
     "name": "stdout",
     "output_type": "stream",
     "text": [
      "Epoch 1 Batch 0 Loss 1.3447\n",
      "Epoch 1 Batch 100 Loss 0.8376\n",
      "Epoch 1 Batch 200 Loss 0.7321\n",
      "Epoch 1 Batch 300 Loss 0.6859\n"
     ]
    },
    {
     "name": "stderr",
     "output_type": "stream",
     "text": [
      " 10%|█         | 1/10 [03:25<30:50, 205.58s/it]"
     ]
    },
    {
     "name": "stdout",
     "output_type": "stream",
     "text": [
      "Epoch 1 Loss 0.7770\n",
      "Time taken for 1 epoch 205.57604813575745 sec\n",
      "\n",
      "Epoch 2 Batch 0 Loss 0.5961\n",
      "Epoch 2 Batch 100 Loss 0.6412\n",
      "Epoch 2 Batch 200 Loss 0.5863\n",
      "Epoch 2 Batch 300 Loss 0.5623\n"
     ]
    },
    {
     "name": "stderr",
     "output_type": "stream",
     "text": [
      " 20%|██        | 2/10 [05:39<21:49, 163.64s/it]"
     ]
    },
    {
     "name": "stdout",
     "output_type": "stream",
     "text": [
      "Epoch 2 Loss 0.6078\n",
      "Time taken for 1 epoch 134.27659392356873 sec\n",
      "\n",
      "Epoch 3 Batch 0 Loss 0.5214\n",
      "Epoch 3 Batch 100 Loss 0.5496\n",
      "Epoch 3 Batch 200 Loss 0.5082\n",
      "Epoch 3 Batch 300 Loss 0.4682\n"
     ]
    },
    {
     "name": "stderr",
     "output_type": "stream",
     "text": [
      " 30%|███       | 3/10 [07:55<17:35, 150.73s/it]"
     ]
    },
    {
     "name": "stdout",
     "output_type": "stream",
     "text": [
      "Epoch 3 Loss 0.5259\n",
      "Time taken for 1 epoch 135.3710961341858 sec\n",
      "\n",
      "Epoch 4 Batch 0 Loss 0.4729\n",
      "Epoch 4 Batch 100 Loss 0.4291\n",
      "Epoch 4 Batch 200 Loss 0.4685\n",
      "Epoch 4 Batch 300 Loss 0.3976\n"
     ]
    },
    {
     "name": "stderr",
     "output_type": "stream",
     "text": [
      " 40%|████      | 4/10 [10:09<14:25, 144.19s/it]"
     ]
    },
    {
     "name": "stdout",
     "output_type": "stream",
     "text": [
      "Epoch 4 Loss 0.4335\n",
      "Time taken for 1 epoch 134.17323231697083 sec\n",
      "\n",
      "Epoch 5 Batch 0 Loss 0.3319\n",
      "Epoch 5 Batch 100 Loss 0.3167\n",
      "Epoch 5 Batch 200 Loss 0.3315\n",
      "Epoch 5 Batch 300 Loss 0.2918\n"
     ]
    },
    {
     "name": "stderr",
     "output_type": "stream",
     "text": [
      " 50%|█████     | 5/10 [12:21<11:39, 139.99s/it]"
     ]
    },
    {
     "name": "stdout",
     "output_type": "stream",
     "text": [
      "Epoch 5 Loss 0.3233\n",
      "Time taken for 1 epoch 132.53682804107666 sec\n",
      "\n",
      "Epoch 6 Batch 0 Loss 0.2568\n",
      "Epoch 6 Batch 100 Loss 0.2493\n",
      "Epoch 6 Batch 200 Loss 0.2447\n",
      "Epoch 6 Batch 300 Loss 0.2464\n"
     ]
    },
    {
     "name": "stderr",
     "output_type": "stream",
     "text": [
      " 60%|██████    | 6/10 [14:35<09:10, 137.68s/it]"
     ]
    },
    {
     "name": "stdout",
     "output_type": "stream",
     "text": [
      "Epoch 6 Loss 0.2323\n",
      "Time taken for 1 epoch 133.19109964370728 sec\n",
      "\n",
      "Epoch 7 Batch 0 Loss 0.1672\n",
      "Epoch 7 Batch 100 Loss 0.1613\n",
      "Epoch 7 Batch 200 Loss 0.1626\n",
      "Epoch 7 Batch 300 Loss 0.1733\n"
     ]
    },
    {
     "name": "stderr",
     "output_type": "stream",
     "text": [
      " 70%|███████   | 7/10 [16:49<06:49, 136.43s/it]"
     ]
    },
    {
     "name": "stdout",
     "output_type": "stream",
     "text": [
      "Epoch 7 Loss 0.1653\n",
      "Time taken for 1 epoch 133.8732943534851 sec\n",
      "\n",
      "Epoch 8 Batch 0 Loss 0.1278\n",
      "Epoch 8 Batch 100 Loss 0.0989\n",
      "Epoch 8 Batch 200 Loss 0.1351\n",
      "Epoch 8 Batch 300 Loss 0.1631\n"
     ]
    },
    {
     "name": "stderr",
     "output_type": "stream",
     "text": [
      " 80%|████████  | 8/10 [19:02<04:31, 135.64s/it]"
     ]
    },
    {
     "name": "stdout",
     "output_type": "stream",
     "text": [
      "Epoch 8 Loss 0.1222\n",
      "Time taken for 1 epoch 133.93309664726257 sec\n",
      "\n",
      "Epoch 9 Batch 0 Loss 0.0810\n",
      "Epoch 9 Batch 100 Loss 0.0809\n",
      "Epoch 9 Batch 200 Loss 0.0821\n",
      "Epoch 9 Batch 300 Loss 0.0970\n"
     ]
    },
    {
     "name": "stderr",
     "output_type": "stream",
     "text": [
      " 90%|█████████ | 9/10 [21:17<02:15, 135.16s/it]"
     ]
    },
    {
     "name": "stdout",
     "output_type": "stream",
     "text": [
      "Epoch 9 Loss 0.0891\n",
      "Time taken for 1 epoch 134.09096455574036 sec\n",
      "\n",
      "Epoch 10 Batch 0 Loss 0.0596\n",
      "Epoch 10 Batch 100 Loss 0.0643\n",
      "Epoch 10 Batch 200 Loss 0.0773\n",
      "Epoch 10 Batch 300 Loss 0.0580\n"
     ]
    },
    {
     "name": "stderr",
     "output_type": "stream",
     "text": [
      "100%|██████████| 10/10 [23:31<00:00, 141.13s/it]"
     ]
    },
    {
     "name": "stdout",
     "output_type": "stream",
     "text": [
      "Epoch 10 Loss 0.0669\n",
      "Time taken for 1 epoch 134.27189564704895 sec\n",
      "\n"
     ]
    },
    {
     "name": "stderr",
     "output_type": "stream",
     "text": [
      "\n"
     ]
    }
   ],
   "source": [
    "EPOCHS = 10\n",
    "from tqdm import tqdm\n",
    "\n",
    "for epoch in tqdm(range(EPOCHS)):\n",
    "    start = time.time()\n",
    "\n",
    "    enc_hidden = encoder.initialize_hidden_state()\n",
    "    total_loss = 0\n",
    "\n",
    "    for (batch, (input, target)) in (enumerate(dataset.take(steps_per_epochs))):\n",
    "        batch_loss = train_step(input, target, enc_hidden)\n",
    "        total_loss += batch_loss\n",
    "\n",
    "        if batch % 100 == 0:\n",
    "            print(f'Epoch {epoch+1} Batch {batch} Loss {batch_loss.numpy():.4f}')\n",
    "    \n",
    "    print(f\"Epoch {epoch + 1} Loss {(total_loss / steps_per_epochs):.4f}\")\n",
    "    print(f\"Time taken for 1 epoch {time.time() - start} sec\\n\")"
   ]
  },
  {
   "cell_type": "code",
   "execution_count": 19,
   "metadata": {},
   "outputs": [],
   "source": [
    "# 번역하기\n",
    "def evaluate(sentence):\n",
    "    # attention weights를 기록할 곳\n",
    "    attention_plot = np.zeros((max_target_len, max_input_len))\n",
    "\n",
    "    sentence = preprocess_sentence(sentence)\n",
    "\n",
    "    inputs = [input_tokenizer.word_index[i] for i in sentence.split()]\n",
    "    inputs = tf.keras.preprocessing.sequence.pad_sequences([inputs], maxlen=max_input_len, padding='post')\n",
    "\n",
    "    inputs = tf.convert_to_tensor(inputs)\n",
    "\n",
    "    result = ''\n",
    "\n",
    "    hidden = [tf.zeros((1, units))]\n",
    "    enc_out, enc_hidden = encoder(inputs, hidden)\n",
    "\n",
    "    dec_hidden = enc_hidden\n",
    "    dec_input = tf.expand_dims([target_tokenizer.word_index['<start>']], 0)\n",
    "\n",
    "    for t in range(max_target_len):\n",
    "        predictions, dec_hidden, attention_weights = decoder(dec_input, dec_hidden, enc_out)\n",
    "\n",
    "        # 어텐션 시각화를 위한 attention weights 저장\n",
    "        attention_weights = tf.reshape(attention_weights, (-1,))\n",
    "        attention_plot[t] = attention_weights.numpy()\n",
    "\n",
    "        predicted_id = tf.argmax(predictions[0]).numpy()\n",
    "\n",
    "        result += target_tokenizer.index_word[predicted_id] + ' '\n",
    "\n",
    "        if target_tokenizer.index_word[predicted_id] == '<end>':\n",
    "            return result, sentence, attention_plot\n",
    "\n",
    "        # 예측된 Index를 모델이 다시 입력으로\n",
    "        dec_input = tf.expand_dims([predicted_id], 0)\n",
    "    return result, sentence, attention_plot"
   ]
  },
  {
   "cell_type": "code",
   "execution_count": 20,
   "metadata": {},
   "outputs": [],
   "source": [
    "from matplotlib import ticker\n",
    "\n",
    "def plot_attention(attention, sentence, predicted_sentence):\n",
    "    fig = plt.figure(figsize=(10,10))\n",
    "    ax = fig.add_subplot(1,1,1)\n",
    "    ax.matshow(attention, cmap='viridis')\n",
    "\n",
    "    fontdict = {'fontsize' : 14}\n",
    "\n",
    "    ax.set_xticklabels([''] + sentence, fontdict=fontdict, rotation=90)\n",
    "    ax.set_yticklabels([''] + predicted_sentence, fontdict=fontdict)\n",
    "\n",
    "    ax.xaxis.set_major_locator(ticker.MultipleLocator(1))\n",
    "    ax.yaxis.set_major_locator(ticker.MultipleLocator(1))\n",
    "\n",
    "    plt.show()"
   ]
  },
  {
   "cell_type": "code",
   "execution_count": 21,
   "metadata": {},
   "outputs": [],
   "source": [
    "def translate(sentence):\n",
    "    result, sentence, attention_plot = evaluate(sentence)\n",
    "\n",
    "    print(\"Input : %s\" % (sentence))\n",
    "    print(\"Predicted translation : {}\".format(result))\n",
    "\n",
    "    attention_plot = attention_plot[:len(result.split()), :len(sentence.split())]\n",
    "    plot_attention(attention_plot, sentence.split(), result.split())"
   ]
  },
  {
   "cell_type": "code",
   "execution_count": 22,
   "metadata": {},
   "outputs": [],
   "source": [
    "sample_sentence = ['tom siempre se esta quejando de su trabajo .', 'la mama se quedo en el coche mientras papa iba de compras .', 'por lo general , vale la pena jugar el juego de la vida .']"
   ]
  },
  {
   "cell_type": "code",
   "execution_count": 23,
   "metadata": {},
   "outputs": [
    {
     "name": "stdout",
     "output_type": "stream",
     "text": [
      "Input : <start> tom siempre se esta quejando de su trabajo . <end>\n",
      "Predicted translation : tom is always complaining about his job . <end> \n"
     ]
    },
    {
     "name": "stderr",
     "output_type": "stream",
     "text": [
      "C:\\Users\\Myeong\\AppData\\Local\\Temp\\ipykernel_14532\\3724270038.py:10: UserWarning: FixedFormatter should only be used together with FixedLocator\n",
      "  ax.set_xticklabels([''] + sentence, fontdict=fontdict, rotation=90)\n",
      "C:\\Users\\Myeong\\AppData\\Local\\Temp\\ipykernel_14532\\3724270038.py:11: UserWarning: FixedFormatter should only be used together with FixedLocator\n",
      "  ax.set_yticklabels([''] + predicted_sentence, fontdict=fontdict)\n"
     ]
    },
    {
     "data": {
      "image/png": "[encoded data removed]",
      "text/plain": [
       "<Figure size 1000x1000 with 1 Axes>"
      ]
     },
     "metadata": {},
     "output_type": "display_data"
    }
   ],
   "source": [
    "translate(u'tom siempre se esta quejando de su trabajo .')"
   ]
  },
  {
   "cell_type": "code",
   "execution_count": 24,
   "metadata": {},
   "outputs": [
    {
     "name": "stdout",
     "output_type": "stream",
     "text": [
      "Input : <start> la mama se quedo en el coche mientras papa iba de compras . <end>\n",
      "Predicted translation : mom remained in the car while dad shopped . <end> \n"
     ]
    },
    {
     "name": "stderr",
     "output_type": "stream",
     "text": [
      "C:\\Users\\Myeong\\AppData\\Local\\Temp\\ipykernel_14532\\3724270038.py:10: UserWarning: FixedFormatter should only be used together with FixedLocator\n",
      "  ax.set_xticklabels([''] + sentence, fontdict=fontdict, rotation=90)\n",
      "C:\\Users\\Myeong\\AppData\\Local\\Temp\\ipykernel_14532\\3724270038.py:11: UserWarning: FixedFormatter should only be used together with FixedLocator\n",
      "  ax.set_yticklabels([''] + predicted_sentence, fontdict=fontdict)\n"
     ]
    },
    {
     "data": {
      "image/png": "[encoded data removed]",
      "text/plain": [
       "<Figure size 1000x1000 with 1 Axes>"
      ]
     },
     "metadata": {},
     "output_type": "display_data"
    }
   ],
   "source": [
    "translate(u'la mama se quedo en el coche mientras papa iba de compras .')"
   ]
  },
  {
   "cell_type": "code",
   "execution_count": 25,
   "metadata": {},
   "outputs": [
    {
     "name": "stdout",
     "output_type": "stream",
     "text": [
      "Input : <start> por lo general , vale la pena jugar el juego de la vida . <end>\n",
      "Predicted translation : generally speaking , the world will be eaten the game on life . <end> \n"
     ]
    },
    {
     "name": "stderr",
     "output_type": "stream",
     "text": [
      "C:\\Users\\Myeong\\AppData\\Local\\Temp\\ipykernel_14532\\3724270038.py:10: UserWarning: FixedFormatter should only be used together with FixedLocator\n",
      "  ax.set_xticklabels([''] + sentence, fontdict=fontdict, rotation=90)\n",
      "C:\\Users\\Myeong\\AppData\\Local\\Temp\\ipykernel_14532\\3724270038.py:11: UserWarning: FixedFormatter should only be used together with FixedLocator\n",
      "  ax.set_yticklabels([''] + predicted_sentence, fontdict=fontdict)\n"
     ]
    },
    {
     "data": {
      "image/png": "[encoded data removed]",
      "text/plain": [
       "<Figure size 1000x1000 with 1 Axes>"
      ]
     },
     "metadata": {},
     "output_type": "display_data"
    }
   ],
   "source": [
    "translate(u'por lo general , vale la pena jugar el juego de la vida .')"
   ]
  }
 ],
 "metadata": {
  "kernelspec": {
   "display_name": "jin",
   "language": "python",
   "name": "python3"
  },
  "language_info": {
   "codemirror_mode": {
    "name": "ipython",
    "version": 3
   },
   "file_extension": ".py",
   "mimetype": "text/x-python",
   "name": "python",
   "nbconvert_exporter": "python",
   "pygments_lexer": "ipython3",
   "version": "3.8.0 (default, Nov  6 2019, 16:00:02) [MSC v.1916 64 bit (AMD64)]"
  },
  "orig_nbformat": 4,
  "vscode": {
   "interpreter": {
    "hash": "96512990021685504d4683198faad895f5cd0e4b7b1aa29365fef97d0a48eb34"
   }
  }
 },
 "nbformat": 4,
 "nbformat_minor": 2
}
