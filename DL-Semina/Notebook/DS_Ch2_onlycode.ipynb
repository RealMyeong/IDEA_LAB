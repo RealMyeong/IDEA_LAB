{
 "cells": [
  {
   "cell_type": "code",
   "execution_count": 1,
   "metadata": {},
   "outputs": [
    {
     "data": {
      "text/plain": [
       "7"
      ]
     },
     "execution_count": 1,
     "metadata": {},
     "output_type": "execute_result"
    }
   ],
   "source": [
    "def seq(n):\n",
    "    if n == 1:\n",
    "        return 1\n",
    "    else:\n",
    "        return seq(n-1) + 3\n",
    "\n",
    "seq(3)"
   ]
  },
  {
   "cell_type": "code",
   "execution_count": 7,
   "metadata": {},
   "outputs": [
    {
     "data": {
      "text/plain": [
       "102334155"
      ]
     },
     "execution_count": 7,
     "metadata": {},
     "output_type": "execute_result"
    }
   ],
   "source": [
    "def fibo(n):\n",
    "    if n == 1 or n == 2:\n",
    "        return 1\n",
    "    else:\n",
    "        return fibo(n-1) + fibo(n-2)\n",
    "\n",
    "fibo(40)"
   ]
  },
  {
   "cell_type": "code",
   "execution_count": 11,
   "metadata": {},
   "outputs": [
    {
     "data": {
      "text/plain": [
       "102334155"
      ]
     },
     "execution_count": 11,
     "metadata": {},
     "output_type": "execute_result"
    }
   ],
   "source": [
    "def fibo_fast(n):\n",
    "    fibo = [0] * (n+1)\n",
    "    fibo[1] = 1\n",
    "    fibo[2] = 1\n",
    "\n",
    "    for i in range(3, n+1):\n",
    "        fibo[i] = fibo[i-1] + fibo[i-2]\n",
    "    return fibo[n]\n",
    "\n",
    "fibo_fast(40)\n",
    "    "
   ]
  },
  {
   "cell_type": "code",
   "execution_count": 15,
   "metadata": {},
   "outputs": [
    {
     "data": {
      "text/plain": [
       "18"
      ]
     },
     "execution_count": 15,
     "metadata": {},
     "output_type": "execute_result"
    }
   ],
   "source": [
    "def seq(n):\n",
    "    if n > 1:\n",
    "        return 5*seq(n-1) + 3\n",
    "    else:\n",
    "        return 0\n",
    "\n",
    "seq(3)"
   ]
  },
  {
   "cell_type": "code",
   "execution_count": 17,
   "metadata": {},
   "outputs": [
    {
     "name": "stdout",
     "output_type": "stream",
     "text": [
      "28\n",
      "10\n"
     ]
    }
   ],
   "source": [
    "def seq(n):\n",
    "    seq.counter += 1\n",
    "    if n==1: \n",
    "        return 1\n",
    "    else: \n",
    "        return seq(n-1) + 3\n",
    "\n",
    "seq.counter = 0\n",
    "\n",
    "print(seq(10))\n",
    "print(seq.counter)"
   ]
  },
  {
   "cell_type": "code",
   "execution_count": 20,
   "metadata": {},
   "outputs": [
    {
     "name": "stdout",
     "output_type": "stream",
     "text": [
      "5\n",
      "9\n"
     ]
    }
   ],
   "source": [
    "def fib(n):\n",
    "    fib.counter += 1\n",
    "    if n==1 or n==2:\n",
    "        return 1\n",
    "    else:\n",
    "        return fib(n-1) + fib(n-2)\n",
    "\n",
    "fib.counter = 0\n",
    "print(fib(5))\n",
    "print(fib.counter)\n"
   ]
  },
  {
   "cell_type": "code",
   "execution_count": 41,
   "metadata": {},
   "outputs": [
    {
     "name": "stdout",
     "output_type": "stream",
     "text": [
      "[6, 3, 5, 1, 2, 8, 7, 4, 9]\n",
      "[1, 2, 3, 4, 5, 6, 7, 8, 9]\n",
      "10\n"
     ]
    }
   ],
   "source": [
    "def selectionSort(A, n):\n",
    "    selectionSort.counter += 1\n",
    "\n",
    "    if n > 1:\n",
    "        max_A = max(A[:n])\n",
    "        A.insert(n-1, A.pop(A.index(max_A)))\n",
    "        selectionSort(A, n-1)\n",
    "\n",
    "selectionSort.counter = 0\n",
    "\n",
    "a = list(range(1,10))\n",
    "import random\n",
    "random.shuffle(a)\n",
    "print(a)\n",
    "\n",
    "selectionSort(a, 10)\n",
    "print(a)\n",
    "print(selectionSort.counter)"
   ]
  }
 ],
 "metadata": {
  "kernelspec": {
   "display_name": "jin",
   "language": "python",
   "name": "python3"
  },
  "language_info": {
   "codemirror_mode": {
    "name": "ipython",
    "version": 3
   },
   "file_extension": ".py",
   "mimetype": "text/x-python",
   "name": "python",
   "nbconvert_exporter": "python",
   "pygments_lexer": "ipython3",
   "version": "3.8.0"
  },
  "orig_nbformat": 4,
  "vscode": {
   "interpreter": {
    "hash": "96512990021685504d4683198faad895f5cd0e4b7b1aa29365fef97d0a48eb34"
   }
  }
 },
 "nbformat": 4,
 "nbformat_minor": 2
}
